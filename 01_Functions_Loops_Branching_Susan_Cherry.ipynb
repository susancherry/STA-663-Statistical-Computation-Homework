{
 "cells": [
  {
   "cell_type": "code",
   "execution_count": 26,
   "metadata": {
    "collapsed": true
   },
   "outputs": [],
   "source": [
    "%matplotlib inline"
   ]
  },
  {
   "cell_type": "code",
   "execution_count": 27,
   "metadata": {
    "collapsed": true
   },
   "outputs": [],
   "source": [
    "import matplotlib.pyplot as plt"
   ]
  },
  {
   "cell_type": "markdown",
   "metadata": {},
   "source": [
    "# Functions, loops and branching\n",
    "\n",
    "The following exercises let you practice Python syntax. Do not use any packages not in the [standard library](https://docs.python.org/3/library/) except for `matplotlib.pyplot` which has been imported for you.\n",
    "\n",
    "If you have not done much programming, these exercises will be challenging. Don't give up! For this first exercise, solutions are provided, but try not to refer to them unless you are desperate."
   ]
  },
  {
   "cell_type": "markdown",
   "metadata": {},
   "source": [
    "**1**. Grading (20 points)\n",
    "\n",
    "- Write a function to assign grades to a student such that \n",
    "```\n",
    "A = [90 - 100]\n",
    "B = [80 - 90)\n",
    "C = [65 - 80)\n",
    "D = [0, 65)\n",
    "```\n",
    "\n",
    "where square brackets indicate inclusive boundaries and parentheses indicate exclusive boundaries. However, studens whose attendance is 12 days or fewer get their grade reduced by one (A to B, B to C, C to D, and D stays D). The function should take a score and an attendance as an argument and return A, B, C or D as appropriate.(10 points)\n",
    "- Count the number of students with each grade from the given scores. (10 points)"
   ]
  },
  {
   "cell_type": "code",
   "execution_count": 28,
   "metadata": {
    "collapsed": false
   },
   "outputs": [],
   "source": [
    "scores = [ 84,  76,  67,  23,  83,  23,  50, 100,  32,  84,  22,  41,  27,\n",
    "        29,  71,  85,  47,  77,  39,  25,  85,  69,  22,  66, 100,  92,\n",
    "        97,  46,  81,  88,  67,  20,  52,  62,  39,  36,  79,  54,  74,\n",
    "        64,  33,  68,  85,  69,  84,  30,  68, 100,  71,  33,  21,  95,\n",
    "        92,  72,  53,  50,  31,  82,  53,  68,  49,  37,  40,  21,  94,\n",
    "        30,  54,  58,  92,  95,  73,  80,  81,  56,  44,  22,  69,  70,\n",
    "        25,  50,  59,  32,  65,  79,  27,  62,  27,  31,  78,  88,  68,\n",
    "        53,  79,  69,  89,  38,  80,  55,  92,  55]\n",
    "\n",
    "attendances = [17, 19, 21, 14, 10, 20, 14,  9,  6, 21,  5, 23, 21,  4,  5, 21, 20,\n",
    "        2, 14, 14, 21, 22,  3,  0, 11,  0,  0,  4, 20, 14, 23, 16, 24,  5,\n",
    "       12, 11, 22, 20, 15, 23,  0, 20, 20,  6,  4, 14,  6, 18, 17,  0, 18,\n",
    "        6,  3, 19, 24,  7,  9, 15, 18, 10,  2, 15, 21,  2,  9, 21, 20, 11,\n",
    "       24, 23, 14, 22,  4, 12,  7, 19,  6, 18, 23,  6, 14,  6,  1, 12,  7,\n",
    "       11, 22, 21,  7, 22, 24,  4, 10, 17, 21, 15,  0, 20,  3, 20]"
   ]
  },
  {
   "cell_type": "code",
   "execution_count": 63,
   "metadata": {
    "collapsed": false
   },
   "outputs": [],
   "source": [
    "#Define function \n",
    "def grade(score, attendance):\n",
    "    \"\"\"\n",
    "    Function to calculate the student's letter grade from score and attendance\n",
    "    \n",
    "    Input: score and attendance, which should be integers\n",
    "    Retruns: Letter grade in the form of a string  \n",
    "    \"\"\"\n",
    "\n",
    "\n",
    "    #Assign letter grade    \n",
    "    if score >=90:\n",
    "        if attendance <=12:\n",
    "            letter_grade='B'\n",
    "        else:\n",
    "            letter_grade='A'\n",
    "    elif score >=80 and score <90:\n",
    "        if attendance <=12:\n",
    "            letter_grade='C'\n",
    "        else:\n",
    "            letter_grade='B'\n",
    "    elif score >=65 and score <80:\n",
    "        if attendance <=12:\n",
    "            letter_grade='D'\n",
    "        else:\n",
    "            letter_grade='C'\n",
    "    elif score<65:\n",
    "        letter_grade='D'\n",
    "        \n",
    "    return letter_grade;\n",
    "    \n"
   ]
  },
  {
   "cell_type": "code",
   "execution_count": 65,
   "metadata": {
    "collapsed": false
   },
   "outputs": [
    {
     "name": "stdout",
     "output_type": "stream",
     "text": [
      "The Number of A's is 3 . The Number of B's is 19 . The Number of C's is 17 . The Number of D's is 61\n"
     ]
    }
   ],
   "source": [
    "#initialize variables\n",
    "Number_of_As=0\n",
    "Number_of_Bs=0\n",
    "Number_of_Cs=0\n",
    "Number_of_Ds=0    \n",
    "\n",
    "#loop through scores and attendances\n",
    "for i in range(0,len(scores)):\n",
    "    \n",
    "    #calculate letter grade\n",
    "    letter=grade(scores[i],attendances[i])\n",
    "    \n",
    "    #update number of each letter grade\n",
    "    if letter=='A':\n",
    "        Number_of_As=Number_of_As+1\n",
    "    elif letter=='B':\n",
    "        Number_of_Bs=Number_of_Bs+1\n",
    "    elif letter=='C':\n",
    "        Number_of_Cs=Number_of_Cs+1\n",
    "    elif letter=='D':\n",
    "        Number_of_Ds=Number_of_Ds+1\n",
    "\n",
    "#Each of the variables (Number_of_As and so on) contain the number of that letter grade\n",
    "#I find the following results:\n",
    "#3 A's, 19 B's, 17 C's, and 61 D's\n",
    "print(\"The Number of A's is\",Number_of_As,\". The Number of B's is\",Number_of_Bs,\". The Number of C's is\",Number_of_Cs,\". The Number of D's is\",Number_of_Ds)\n"
   ]
  },
  {
   "cell_type": "markdown",
   "metadata": {},
   "source": [
    "**2**. The Henon map and chaos. (25 points)\n",
    "\n",
    "The Henon map takes a pont $(x_n, y_n)$ in the plane and maps it to \n",
    "$$\n",
    "x_{n+1} = 1 - a x_n^2 + y_n \\\\\n",
    "y_{n+1} = b x_n\n",
    "$$\n",
    "\n",
    "- Write a function for the Henon map. It should take the current (x, y) value and return a new pair of coordinates. Set a=1.4 and b=0.3 as defatult arguments. What is the output for x=1 and y=1? (5 points)\n",
    "- Using a for loop that increments the value of $a$ from 1.1 to 1.4 in steps of 0.01, save the last 50 $x$-terms in the iterated Henon map stopping at $x_{1000}$ for each value of $a$. Use $x_0 = 1$ and $y_0 = 1$ for each value of $a$, leaveing fixed $b = 0.3$.(10 points)\n",
    "- Make a scatter plot of each $(a, x)$ value with $a$ on the horizontal axis and $x$ on the vertical axis. Use the `plt.scatter` function with `s=1` to make the plot. (10 points)"
   ]
  },
  {
   "cell_type": "code",
   "execution_count": null,
   "metadata": {
    "collapsed": true
   },
   "outputs": [],
   "source": []
  },
  {
   "cell_type": "code",
   "execution_count": 54,
   "metadata": {
    "collapsed": false
   },
   "outputs": [
    {
     "name": "stdout",
     "output_type": "stream",
     "text": [
      "The values for x=1 and y=1 are x_{n+1}=0.6 amd y_{n+1}=0.3\n"
     ]
    }
   ],
   "source": [
    "#set a and b values \n",
    "a=1.4\n",
    "b=0.3\n",
    "#define the function for the Henon Map\n",
    "def henon_map(x,y):\n",
    "    \"\"\"\n",
    "    Henon Map Function\n",
    "    \n",
    "    Input: x and y, which are two numbers\n",
    "    Returns: Update x and y values\n",
    "    \"\"\"\n",
    "    newx=1-a*(x**2)+y\n",
    "    newy=b*x\n",
    "    return newx,newy;\n",
    "\n",
    "henon_map(1,1)\n",
    "\n",
    "## The output for x=1 and y=1 is x_{n+1}=0.6 and y_{n+1}=0.3\n",
    "print(\"The values for x=1 and y=1 are x_{n+1}=0.6 amd y_{n+1}=0.3\")"
   ]
  },
  {
   "cell_type": "code",
   "execution_count": 53,
   "metadata": {
    "collapsed": false
   },
   "outputs": [
    {
     "data": {
      "text/plain": [
       "<matplotlib.collections.PathCollection at 0x105fbac88>"
      ]
     },
     "execution_count": 53,
     "metadata": {},
     "output_type": "execute_result"
    },
    {
     "data": {
      "image/png": "[encoded data removed]",
      "text/plain": [
       "<matplotlib.figure.Figure at 0x111ad32b0>"
      ]
     },
     "metadata": {},
     "output_type": "display_data"
    }
   ],
   "source": [
    "\n",
    "a_values=[]\n",
    "x_values=[]\n",
    "a=1.1-.01\n",
    "a_length=round((1.4-1.1)/.01)+1\n",
    "for i in range(0,a_length):\n",
    "    a=a+.01\n",
    "    x=1\n",
    "    y=1\n",
    "    for j in range(0,1000):\n",
    "        new=henon_map(x,y)\n",
    "        if j>949:\n",
    "            a_values.append(a)\n",
    "            x_values.append(new[0])\n",
    "        x=new[0]\n",
    "        y=new[1]\n",
    "\n",
    "plt.scatter(a_values,x_values,s=1)"
   ]
  },
  {
   "cell_type": "markdown",
   "metadata": {},
   "source": [
    "**3**. Collatz numbers - Euler project problem 14. (25 points)\n",
    "\n",
    "The following iterative sequence is defined for the set of positive integers:\n",
    "```\n",
    "n → n/2 (n is even)\n",
    "n → 3n + 1 (n is odd)\n",
    "```\n",
    "Using the rule above and starting with 13, we generate the following sequence:\n",
    "```\n",
    "13 → 40 → 20 → 10 → 5 → 16 → 8 → 4 → 2 → 1\n",
    "```\n",
    "It can be seen that this sequence (starting at 13 and finishing at 1) contains 10 terms. Although it has not been proved yet (Collatz Problem), it is thought that all starting numbers finish at 1.\n",
    "\n",
    "- Write a function to generate the iterative sequence described (15 points)\n",
    "- Which starting number, under one million, produces the longest chain? (10 points)\n",
    "\n",
    "NOTE: Once the chain starts the terms are allowed to go above one million."
   ]
  },
  {
   "cell_type": "code",
   "execution_count": 40,
   "metadata": {
    "collapsed": false
   },
   "outputs": [],
   "source": [
    "def Collatz(n):\n",
    "    '''Function to generate the Collatz Problem\n",
    "    \n",
    "    Input: n, which is an integer\n",
    "    Returns: A chain, which contains the sequence of all numbers following the Collatz Problem. \n",
    "    The chain should end with 1.\n",
    "    '''\n",
    "    \n",
    "    #initialize chain\n",
    "    chain=[n]\n",
    "    \n",
    "    #while n >1, go through the sequence generating process and append to end of list\n",
    "    while n>1:\n",
    "        if n%2==0:\n",
    "            n=n/2\n",
    "        else:\n",
    "            n=3*n+1\n",
    "        chain.append(n)\n",
    "    #finally return the list\n",
    "    return chain\n"
   ]
  },
  {
   "cell_type": "code",
   "execution_count": 55,
   "metadata": {
    "collapsed": false
   },
   "outputs": [
    {
     "name": "stdout",
     "output_type": "stream",
     "text": [
      "The number with the longest chain is 837799\n",
      "It's chain length is 525 numbers long\n"
     ]
    }
   ],
   "source": [
    "#initialize the variables\n",
    "max_length=0\n",
    "max_index=0\n",
    "\n",
    "#start at 1,000,000\n",
    "n=1000000\n",
    "\n",
    "#while n is greater than 0\n",
    "while n>=1:\n",
    "    #call the Collatz function\n",
    "    new_length=len(Collatz(n))\n",
    "    \n",
    "    #compare lengths and update if this is longer\n",
    "    if new_length>max_length:\n",
    "        max_length=new_length\n",
    "        max_index=n\n",
    "    n=n-1\n",
    "    \n",
    "#This is the number that has the longest chain. It is 847,799. It is 525 numbers long.\n",
    "print(\"The number with the longest chain is\",max_index)\n",
    "print(\"It's chain length is\", max_length, \"numbers long\")\n"
   ]
  },
  {
   "cell_type": "code",
   "execution_count": null,
   "metadata": {
    "collapsed": false
   },
   "outputs": [
    {
     "name": "stdout",
     "output_type": "stream",
     "text": [
      "The number with the longest chain is 837799\n",
      "It's chain length is 525 numbers long\n"
     ]
    }
   ],
   "source": [
    "print(\"The number with the longest chain is\",max_index)\n",
    "print(\"It's chain length is\", max_length, \"numbers long\")\n",
    "#This is the number that has the longest chain. It is 847,799. It is 525 numbers long."
   ]
  },
  {
   "cell_type": "markdown",
   "metadata": {},
   "source": [
    "**4**. Reading Ulysses. (30 points)\n",
    "\n",
    "- Write a program to download the text of [Ulysses](http://www.gutenberg.org/files/4300/4300-0.txt) (5 points)\n",
    "- Open the downloaded file and read the entire sequence into a single string variable called `text`, discarding the header information (i.e. text should start with `\\n\\n*** START OF THIS PROJECT GUTENBERG EBOOK ULYSSES ***\\n\\n\\n\\n\\n`). Also remove the footer information (i.e. text should not include anything from `End of the Project Gutenberg EBook of Ulysses, by James Joyce`). (10 points)\n",
    "- Find and report the starting index (counting from zero) and length of the longest word in `text`. For simplicity, a word is defined here to be any sequence of characters with no space between the characters (i.e. a word may include punctuation or numbers, just not spaces). If there are ties, report the starting index and length of the last word found. For example, in \"the quick brow fox jumps over the lazy dog.\" the longest word is `jumps` which starts at index 19 and has length 5, and 'dog.' would be considered a 4-letter word (15 points)."
   ]
  },
  {
   "cell_type": "code",
   "execution_count": 56,
   "metadata": {
    "collapsed": false
   },
   "outputs": [
    {
     "data": {
      "text/plain": [
       "('Ulysses', <http.client.HTTPMessage at 0x113559780>)"
      ]
     },
     "execution_count": 56,
     "metadata": {},
     "output_type": "execute_result"
    }
   ],
   "source": [
    "import urllib.request\n",
    "#define the url that I'm downloading from\n",
    "url=\"http://www.gutenberg.org/files/4300/4300-0.txt\"\n",
    "\n",
    "#save the .txt file as 'Ulysses\n",
    "urllib.request.urlretrieve(url, 'Ulysses')"
   ]
  },
  {
   "cell_type": "code",
   "execution_count": 57,
   "metadata": {
    "collapsed": false
   },
   "outputs": [],
   "source": [
    "#open and read in the file\n",
    "Ulysses=open('/Users/susancherry/Ulysses.txt',encoding='utf-8')\n",
    "Ulysses=Ulysses.read()\n",
    "\n",
    "#get rid of the header and footer\n",
    "start_index=Ulysses.find(\"***\")-2\n",
    "end_index=Ulysses.rfind('Joyce')+7\n",
    "Ulysses=Ulysses[start_index:end_index]"
   ]
  },
  {
   "cell_type": "code",
   "execution_count": 50,
   "metadata": {
    "collapsed": false
   },
   "outputs": [
    {
     "name": "stdout",
     "output_type": "stream",
     "text": [
      "The longest word has 105 characters.\n",
      "Its starting index is [105352]\n",
      "The longest word is Nationalgymnasiummuseumsanatoriumandsuspensoriumsordinaryprivatdocentgeneralhistoryspecialprofessordoctor\n"
     ]
    }
   ],
   "source": [
    "#split the string into words\n",
    "words=Ulysses.split()\n",
    "\n",
    "#initialize variables \n",
    "length=0\n",
    "index=[]\n",
    "for i in range(0,len(words)):\n",
    "    #if i find a word longer than the previously longest word, I update index and length\n",
    "    if len(words[i])>length:\n",
    "        length=len(words[i])\n",
    "        index=[]\n",
    "        index.append(i)\n",
    "    #if i find one the same length, I add to index\n",
    "    elif len(words[i])==length:\n",
    "        index.append(i)\n",
    "print(\"The longest word has\", length,\"characters.\")\n",
    "print(\"Its starting index is\", index)\n",
    "print(\"The longest word is\", words[index[0]])"
   ]
  },
  {
   "cell_type": "code",
   "execution_count": null,
   "metadata": {
    "collapsed": true
   },
   "outputs": [],
   "source": []
  }
 ],
 "metadata": {
  "anaconda-cloud": {},
  "kernelspec": {
   "display_name": "Python [default]",
   "language": "python",
   "name": "python3"
  },
  "language_info": {
   "codemirror_mode": {
    "name": "ipython",
    "version": 3
   },
   "file_extension": ".py",
   "mimetype": "text/x-python",
   "name": "python",
   "nbconvert_exporter": "python",
   "pygments_lexer": "ipython3",
   "version": "3.5.2"
  },
  "latex_envs": {
   "bibliofile": "biblio.bib",
   "cite_by": "apalike",
   "current_citInitial": 1,
   "eqLabelWithNumbers": true,
   "eqNumInitial": 0
  }
 },
 "nbformat": 4,
 "nbformat_minor": 1
}
