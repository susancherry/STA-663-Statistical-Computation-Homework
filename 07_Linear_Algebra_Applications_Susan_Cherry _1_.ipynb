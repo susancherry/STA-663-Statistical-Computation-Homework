{
 "cells": [
  {
   "cell_type": "markdown",
   "metadata": {},
   "source": [
    "# Topic Modeling wiht Latent Semantic Analysis"
   ]
  },
  {
   "cell_type": "markdown",
   "metadata": {},
   "source": [
    "Latent Semantic Analysis (LSA) is a method for reducing the dimnesionality of documents treated as a bag of words. It is used for document classification, clustering and retrieval. For example, LSA can be used to search for prior art given a new patent application. In this homework, we will implement a small library for simple latent semantic analysis as a practical example of the application of SVD. The ideas are very similar to PCA.\n",
    "\n",
    "We will implement a toy example of LSA to get familiar with the ideas. If you want to use LSA or similar methods for statiscal language analyis, the most efficient Python library is probably [gensim](https://radimrehurek.com/gensim/) - this also provides an online algorithm - i.e. the training information can be continuously updated. Other useful functions for processing natural language can be found in the [Natural Lnaguage Toolkit](http://www.nltk.org/)."
   ]
  },
  {
   "cell_type": "markdown",
   "metadata": {},
   "source": [
    "**Note**: The SVD from scipy.linalg performs a full decomposition, which is inefficient since we only need to decompose until we get the first k singluar values. If the SVD from `scipy.linalg` is too slow, please use the `sparsesvd` function from the [sparsesvd](https://pypi.python.org/pypi/sparsesvd/) package to perform SVD instead.  You can install in the usual way with \n",
    "```\n",
    "!pip install sparsesvd\n",
    "```\n",
    "\n",
    "Then import the following\n",
    "```python\n",
    "from sparsesvd import sparsesvd \n",
    "from scipy.sparse import csc_matrix \n",
    "```\n",
    "\n",
    "and use as follows\n",
    "```python\n",
    "sparsesvd(csc_matrix(M), k=10)\n",
    "```"
   ]
  },
  {
   "cell_type": "markdown",
   "metadata": {},
   "source": [
    "**Exercise 1 (20 points)**.  Calculating pairwise distance matrices.\n",
    "\n",
    "Suppose we want to construct a distance matrix between the rows of a matrix. For example, given the matrix \n",
    "\n",
    "```python\n",
    "M = np.array([[1,2,3],[4,5,6]])\n",
    "```\n",
    "\n",
    "the distance matrix using Euclidean distance as the measure would be\n",
    "```python\n",
    "[[ 0.000  1.414  2.828]\n",
    " [ 1.414  0.000  1.414]\n",
    " [ 2.828  1.414  0.000]] \n",
    "```\n",
    "if $M$ was a collection of column vectors.\n",
    "\n",
    "Write a function to calculate the pairwise-distance matrix given the matrix $M$ and some arbitrary distance function. Your functions should have the following signature:\n",
    "```\n",
    "def func_name(M, distance_func):\n",
    "    pass\n",
    "```\n",
    "\n",
    "0. Write a distance function for the Euclidean, squared Euclidean and cosine measures.\n",
    "1. Write the function using looping for M as a collection of row vectors.\n",
    "2. Write the function using looping for M as a collection of column vectors.\n",
    "3. Wrtie the function using broadcasting for M as a colleciton of row vectors.\n",
    "4. Write the function using broadcasting for M as a colleciton of column vectors. \n",
    "\n",
    "For 3 and 4, try to avoid using transposition (but if you get stuck, there will be no penalty for using transpoition). Check that all four functions give the same result when applied to the given matrix $M$."
   ]
  },
  {
   "cell_type": "code",
   "execution_count": 1,
   "metadata": {
    "collapsed": false
   },
   "outputs": [],
   "source": [
    "import numpy as np\n",
    "M = np.array([[1,2,3],[4,5,6]])\n",
    "\n",
    "## Euclidean Distance \n",
    "def Euclidean(A,B):\n",
    "    \"\"\"Function that returns the Euclidean Distance \"\"\"\n",
    "    count=0\n",
    "    for i in range(len(A)):\n",
    "        count+= (A[i]-B[i])**2\n",
    "    return count ** 0.5\n",
    "        \n",
    "## Squared Euclidean Distance\n",
    "def Squared_Euclidean(A,B):\n",
    "    \"\"\"Function that returns the Squared Euclidean Distance \"\"\"\n",
    "    count=0\n",
    "    for i in range(len(A)):\n",
    "        count+= (A[i]-B[i])**2\n",
    "    return count\n",
    "\n",
    "## Cosine Distance\n",
    "def Cosine(A, B):\n",
    "    \"\"\"Function that Returns Cosine Distance\"\"\"\n",
    "    return 1 - (A* B).sum(0)/(np.sqrt((A**2).sum(0)) * np.sqrt((B**2).sum(0)))\n"
   ]
  },
  {
   "cell_type": "code",
   "execution_count": 2,
   "metadata": {
    "collapsed": false
   },
   "outputs": [
    {
     "name": "stdout",
     "output_type": "stream",
     "text": [
      "[[ 0.          5.19615242]\n",
      " [ 5.19615242  0.        ]]\n",
      "[[  0.  27.]\n",
      " [ 27.   0.]]\n",
      "[[  0.00000000e+00   2.53681538e-02]\n",
      " [  2.53681538e-02   2.22044605e-16]]\n"
     ]
    }
   ],
   "source": [
    "#Write the function using looping for M as a collection of row vectors.\n",
    "def pairwise_dist_row(Matrix, distance_func):\n",
    "    \"\"\"Returns matrix of pairwise row distances using loops.\"\"\"\n",
    "    n = len(Matrix)\n",
    "    m = np.zeros((n, n))\n",
    "    for i in range(n):\n",
    "        for j in range(n):\n",
    "            m[i, j]=distance_func(Matrix[i,:],Matrix[j,:])\n",
    "    \n",
    "    return m\n",
    "\n",
    "print(pairwise_dist_row(M, Euclidean))\n",
    "print(pairwise_dist_row(M, Squared_Euclidean))\n",
    "print(pairwise_dist_row(M, Cosine))"
   ]
  },
  {
   "cell_type": "code",
   "execution_count": 3,
   "metadata": {
    "collapsed": false
   },
   "outputs": [
    {
     "name": "stdout",
     "output_type": "stream",
     "text": [
      "[[ 0.          1.41421356  2.82842712]\n",
      " [ 1.41421356  0.          1.41421356]\n",
      " [ 2.82842712  1.41421356  0.        ]]\n",
      "[[ 0.  2.  8.]\n",
      " [ 2.  0.  2.]\n",
      " [ 8.  2.  0.]]\n",
      "[[  0.00000000e+00   9.16983196e-03   2.38129398e-02]\n",
      " [  9.16983196e-03  -2.22044605e-16   3.45424176e-03]\n",
      " [  2.38129398e-02   3.45424176e-03   1.11022302e-16]]\n"
     ]
    }
   ],
   "source": [
    "## Write the function using looping for M as a collection of column vectors.\n",
    "def pairwise_dist_col(Matrix, distance_func):\n",
    "    \"\"\"Returns matrix of pairwise row distances using loops.\"\"\"\n",
    "    n = Matrix.shape[1]\n",
    "    m = np.zeros((n, n))\n",
    "    for i in range(n):\n",
    "        for j in range(n):\n",
    "            m[i, j]=distance_func(Matrix[:,i],Matrix[:,j])\n",
    "    return m\n",
    "\n",
    "print(pairwise_dist_col(M, Euclidean))\n",
    "print(pairwise_dist_col(M, Squared_Euclidean))\n",
    "print(pairwise_dist_col(M, Cosine))\n"
   ]
  },
  {
   "cell_type": "code",
   "execution_count": 4,
   "metadata": {
    "collapsed": false
   },
   "outputs": [
    {
     "name": "stdout",
     "output_type": "stream",
     "text": [
      "[[ 0.          5.19615242]\n",
      " [ 5.19615242  0.        ]]\n",
      "[[ 0 27]\n",
      " [27  0]]\n",
      "[[  0.00000000e+00   2.53681538e-02]\n",
      " [  2.53681538e-02   2.22044605e-16]]\n"
     ]
    }
   ],
   "source": [
    "## Wrtie the function using broadcasting for M as a colleciton of row vectors.\n",
    "def pairwise_dist_row2(M, distance_func):\n",
    "    '''Returns matrix of pairwise row distances using broadcasting.'''\n",
    "    return distance_func(M.T[:,None,:],M.T[:,:,None])\n",
    "\n",
    "print(pairwise_dist_row2(M, Euclidean))\n",
    "print(pairwise_dist_row2(M, Squared_Euclidean))\n",
    "print(pairwise_dist_row2(M, Cosine))"
   ]
  },
  {
   "cell_type": "code",
   "execution_count": 5,
   "metadata": {
    "collapsed": false
   },
   "outputs": [
    {
     "name": "stdout",
     "output_type": "stream",
     "text": [
      "[[ 0.          1.41421356  2.82842712]\n",
      " [ 1.41421356  0.          1.41421356]\n",
      " [ 2.82842712  1.41421356  0.        ]]\n",
      "[[0 2 8]\n",
      " [2 0 2]\n",
      " [8 2 0]]\n",
      "[[  0.00000000e+00   9.16983196e-03   2.38129398e-02]\n",
      " [  9.16983196e-03  -2.22044605e-16   3.45424176e-03]\n",
      " [  2.38129398e-02   3.45424176e-03   1.11022302e-16]]\n"
     ]
    }
   ],
   "source": [
    "#Wrtie the function using broadcasting for M as a colleciton of col vectors.\n",
    "def pairwise_dist_col2(M, distance_func):\n",
    "    '''Returns matrix of pairwise col distances using broadcasting.'''\n",
    "    return distance_func(M[:,None,:],M[:,:,None])\n",
    "\n",
    "print(pairwise_dist_col2(M, Euclidean))\n",
    "print(pairwise_dist_col2(M, Squared_Euclidean))\n",
    "print(pairwise_dist_col2(M, Cosine))\n"
   ]
  },
  {
   "cell_type": "code",
   "execution_count": 6,
   "metadata": {
    "collapsed": true
   },
   "outputs": [],
   "source": [
    "## Make sure both broadcasting and loops return the same results\n",
    "from numpy.testing import assert_almost_equal\n",
    "\n",
    "assert_almost_equal(pairwise_dist_col(M, Euclidean), pairwise_dist_col2(M, Euclidean))\n",
    "assert_almost_equal(pairwise_dist_row2(M, Euclidean), pairwise_dist_row(M, Euclidean))"
   ]
  },
  {
   "cell_type": "markdown",
   "metadata": {},
   "source": [
    "**Exercise 2 (20 points)**. Write 3 functions to calculate the term frequency (tf), the inverse document frequency (idf) and the product (tf-idf). Each function should take a single argument `docs`, which is a dictionary of (key=identifier, value=dcoument text) pairs, and return an appropriately sized array. Convert '-' to ' ' (space), remove punctuation, convert text to lowercase and split on whitespace to generate a collection of terms from the dcoument text.\n",
    "\n",
    "- tf = the number of occurrences of term $i$ in document $j$\n",
    "- idf = $\\log \\frac{n}{1 + \\text{df}_i}$ where $n$ is the total number of documents and $\\text{df}_i$ is the number of documents in which term $i$ occurs.\n",
    "\n",
    "Print the table of tf-idf values for the following document collection\n",
    "\n",
    "```\n",
    "s1 = \"The quick brown fox\"\n",
    "s2 = \"Brown fox jumps over the jumps jumps jumps\"\n",
    "s3 = \"The the the lazy dog elephant.\"\n",
    "s4 = \"The the the the the dog peacock lion tiger elephant\"\n",
    "\n",
    "docs = {'s1': s1, 's2': s2, 's3': s3, 's4': s4}\n",
    "```"
   ]
  },
  {
   "cell_type": "code",
   "execution_count": 7,
   "metadata": {
    "collapsed": true
   },
   "outputs": [],
   "source": [
    "s1 = \"The quick brown fox\"\n",
    "s2 = \"Brown fox jumps over the jumps jumps jumps\"\n",
    "s3 = \"The the the lazy dog elephant.\"\n",
    "s4 = \"The the the the the dog peacock lion tiger elephant\"\n",
    "\n",
    "docs = {'s1': s1, 's2': s2, 's3': s3, 's4': s4}"
   ]
  },
  {
   "cell_type": "code",
   "execution_count": 8,
   "metadata": {
    "collapsed": false
   },
   "outputs": [],
   "source": [
    "#Function to count the inverse frequency \n",
    "from collections import Counter\n",
    "from string import punctuation\n",
    "import pandas as pd\n",
    "\n",
    "def tf(docs):\n",
    "    \"\"\"Returns a dataframe with the term frequency for each document in a collection of documents\"\"\"\n",
    "    \n",
    "    #create dataframe from the term frequences of each documents \n",
    "    data_frame = pd.DataFrame({a: each_document_tf(b) for a, b in docs.items()})\n",
    "    \n",
    "    #replace the NAs with 0\n",
    "    data_frame.fillna(0, inplace=True)\n",
    "    \n",
    "    #return the data frame\n",
    "    return data_frame\n",
    "\n",
    "def each_document_tf(doc):\n",
    "    \"Return dictinary of term frequency of a single document\"\n",
    "    \n",
    "    #initiailize dictionary \n",
    "    d={}\n",
    "    \n",
    "    #lower case and replace '-'\n",
    "    words = doc.lower().replace('-', ' ')\n",
    "    \n",
    "    #get rid of punctuation\n",
    "    for item in punctuation:\n",
    "        if item in words:\n",
    "            words=words.replace(item,\"\")\n",
    "    #split into words\n",
    "    words=words.split()\n",
    "    \n",
    "    #Count the words \n",
    "    for word in words:\n",
    "        d[word]=d.get(word, 0)+1  \n",
    "        \n",
    "    #return the dictionary for the document \n",
    "    return d\n",
    "\n",
    "\n"
   ]
  },
  {
   "cell_type": "code",
   "execution_count": 9,
   "metadata": {
    "collapsed": false
   },
   "outputs": [
    {
     "data": {
      "text/html": [
       "<div>\n",
       "<table border=\"1\" class=\"dataframe\">\n",
       "  <thead>\n",
       "    <tr style=\"text-align: right;\">\n",
       "      <th></th>\n",
       "      <th>s1</th>\n",
       "      <th>s2</th>\n",
       "      <th>s3</th>\n",
       "      <th>s4</th>\n",
       "    </tr>\n",
       "  </thead>\n",
       "  <tbody>\n",
       "    <tr>\n",
       "      <th>brown</th>\n",
       "      <td>1.0</td>\n",
       "      <td>1.0</td>\n",
       "      <td>0.0</td>\n",
       "      <td>0.0</td>\n",
       "    </tr>\n",
       "    <tr>\n",
       "      <th>dog</th>\n",
       "      <td>0.0</td>\n",
       "      <td>0.0</td>\n",
       "      <td>1.0</td>\n",
       "      <td>1.0</td>\n",
       "    </tr>\n",
       "    <tr>\n",
       "      <th>elephant</th>\n",
       "      <td>0.0</td>\n",
       "      <td>0.0</td>\n",
       "      <td>1.0</td>\n",
       "      <td>1.0</td>\n",
       "    </tr>\n",
       "    <tr>\n",
       "      <th>fox</th>\n",
       "      <td>1.0</td>\n",
       "      <td>1.0</td>\n",
       "      <td>0.0</td>\n",
       "      <td>0.0</td>\n",
       "    </tr>\n",
       "    <tr>\n",
       "      <th>jumps</th>\n",
       "      <td>0.0</td>\n",
       "      <td>4.0</td>\n",
       "      <td>0.0</td>\n",
       "      <td>0.0</td>\n",
       "    </tr>\n",
       "    <tr>\n",
       "      <th>lazy</th>\n",
       "      <td>0.0</td>\n",
       "      <td>0.0</td>\n",
       "      <td>1.0</td>\n",
       "      <td>0.0</td>\n",
       "    </tr>\n",
       "    <tr>\n",
       "      <th>lion</th>\n",
       "      <td>0.0</td>\n",
       "      <td>0.0</td>\n",
       "      <td>0.0</td>\n",
       "      <td>1.0</td>\n",
       "    </tr>\n",
       "    <tr>\n",
       "      <th>over</th>\n",
       "      <td>0.0</td>\n",
       "      <td>1.0</td>\n",
       "      <td>0.0</td>\n",
       "      <td>0.0</td>\n",
       "    </tr>\n",
       "    <tr>\n",
       "      <th>peacock</th>\n",
       "      <td>0.0</td>\n",
       "      <td>0.0</td>\n",
       "      <td>0.0</td>\n",
       "      <td>1.0</td>\n",
       "    </tr>\n",
       "    <tr>\n",
       "      <th>quick</th>\n",
       "      <td>1.0</td>\n",
       "      <td>0.0</td>\n",
       "      <td>0.0</td>\n",
       "      <td>0.0</td>\n",
       "    </tr>\n",
       "    <tr>\n",
       "      <th>the</th>\n",
       "      <td>1.0</td>\n",
       "      <td>1.0</td>\n",
       "      <td>3.0</td>\n",
       "      <td>5.0</td>\n",
       "    </tr>\n",
       "    <tr>\n",
       "      <th>tiger</th>\n",
       "      <td>0.0</td>\n",
       "      <td>0.0</td>\n",
       "      <td>0.0</td>\n",
       "      <td>1.0</td>\n",
       "    </tr>\n",
       "  </tbody>\n",
       "</table>\n",
       "</div>"
      ],
      "text/plain": [
       "           s1   s2   s3   s4\n",
       "brown     1.0  1.0  0.0  0.0\n",
       "dog       0.0  0.0  1.0  1.0\n",
       "elephant  0.0  0.0  1.0  1.0\n",
       "fox       1.0  1.0  0.0  0.0\n",
       "jumps     0.0  4.0  0.0  0.0\n",
       "lazy      0.0  0.0  1.0  0.0\n",
       "lion      0.0  0.0  0.0  1.0\n",
       "over      0.0  1.0  0.0  0.0\n",
       "peacock   0.0  0.0  0.0  1.0\n",
       "quick     1.0  0.0  0.0  0.0\n",
       "the       1.0  1.0  3.0  5.0\n",
       "tiger     0.0  0.0  0.0  1.0"
      ]
     },
     "execution_count": 9,
     "metadata": {},
     "output_type": "execute_result"
    }
   ],
   "source": [
    "tf(docs)"
   ]
  },
  {
   "cell_type": "code",
   "execution_count": 10,
   "metadata": {
    "collapsed": false
   },
   "outputs": [],
   "source": [
    "#function for inverse term frequency \n",
    "import numpy as np\n",
    "from __future__ import division\n",
    "\n",
    "def idf(docs):\n",
    "    '''Calculate the inverse term frequency for a collection of documents '''\n",
    "    #call the term frequency function \n",
    "    term_freq=tf(docs)\n",
    "    \n",
    "    #count the number of documents \n",
    "    n=term_freq.shape[1]\n",
    "    \n",
    "    #create the dataframe of inverse term frequencies \n",
    "    sums=np.log(n/(np.sum(term_freq>0,axis=1)+1))\n",
    "\n",
    "    new_data=pd.DataFrame(sums)\n",
    "    new_data.columns=[\"idf\"]\n",
    "    \n",
    "    #return the new dataframe \n",
    "    return new_data"
   ]
  },
  {
   "cell_type": "code",
   "execution_count": 11,
   "metadata": {
    "collapsed": false
   },
   "outputs": [
    {
     "data": {
      "text/html": [
       "<div>\n",
       "<table border=\"1\" class=\"dataframe\">\n",
       "  <thead>\n",
       "    <tr style=\"text-align: right;\">\n",
       "      <th></th>\n",
       "      <th>idf</th>\n",
       "    </tr>\n",
       "  </thead>\n",
       "  <tbody>\n",
       "    <tr>\n",
       "      <th>brown</th>\n",
       "      <td>0.287682</td>\n",
       "    </tr>\n",
       "    <tr>\n",
       "      <th>dog</th>\n",
       "      <td>0.287682</td>\n",
       "    </tr>\n",
       "    <tr>\n",
       "      <th>elephant</th>\n",
       "      <td>0.287682</td>\n",
       "    </tr>\n",
       "    <tr>\n",
       "      <th>fox</th>\n",
       "      <td>0.287682</td>\n",
       "    </tr>\n",
       "    <tr>\n",
       "      <th>jumps</th>\n",
       "      <td>0.693147</td>\n",
       "    </tr>\n",
       "    <tr>\n",
       "      <th>lazy</th>\n",
       "      <td>0.693147</td>\n",
       "    </tr>\n",
       "    <tr>\n",
       "      <th>lion</th>\n",
       "      <td>0.693147</td>\n",
       "    </tr>\n",
       "    <tr>\n",
       "      <th>over</th>\n",
       "      <td>0.693147</td>\n",
       "    </tr>\n",
       "    <tr>\n",
       "      <th>peacock</th>\n",
       "      <td>0.693147</td>\n",
       "    </tr>\n",
       "    <tr>\n",
       "      <th>quick</th>\n",
       "      <td>0.693147</td>\n",
       "    </tr>\n",
       "    <tr>\n",
       "      <th>the</th>\n",
       "      <td>-0.223144</td>\n",
       "    </tr>\n",
       "    <tr>\n",
       "      <th>tiger</th>\n",
       "      <td>0.693147</td>\n",
       "    </tr>\n",
       "  </tbody>\n",
       "</table>\n",
       "</div>"
      ],
      "text/plain": [
       "               idf\n",
       "brown     0.287682\n",
       "dog       0.287682\n",
       "elephant  0.287682\n",
       "fox       0.287682\n",
       "jumps     0.693147\n",
       "lazy      0.693147\n",
       "lion      0.693147\n",
       "over      0.693147\n",
       "peacock   0.693147\n",
       "quick     0.693147\n",
       "the      -0.223144\n",
       "tiger     0.693147"
      ]
     },
     "execution_count": 11,
     "metadata": {},
     "output_type": "execute_result"
    }
   ],
   "source": [
    "idf(docs)"
   ]
  },
  {
   "cell_type": "code",
   "execution_count": 12,
   "metadata": {
    "collapsed": false
   },
   "outputs": [],
   "source": [
    "def tf_idf(docs):\n",
    "    \"\"\"Function that returns a dataframe of the product of tf and idf for a collection of documents\"\"\"\n",
    "    #call the two functions previous written\n",
    "    term_freq=tf(docs)\n",
    "    idf_data=idf(docs)\n",
    "    #return them multiplied together and transposed \n",
    "    new=pd.DataFrame((np.array(term_freq) * np.array(idf_data)))\n",
    "    new.index = idf_data.index\n",
    "    return new"
   ]
  },
  {
   "cell_type": "code",
   "execution_count": 13,
   "metadata": {
    "collapsed": false
   },
   "outputs": [
    {
     "data": {
      "text/html": [
       "<div>\n",
       "<table border=\"1\" class=\"dataframe\">\n",
       "  <thead>\n",
       "    <tr style=\"text-align: right;\">\n",
       "      <th></th>\n",
       "      <th>0</th>\n",
       "      <th>1</th>\n",
       "      <th>2</th>\n",
       "      <th>3</th>\n",
       "    </tr>\n",
       "  </thead>\n",
       "  <tbody>\n",
       "    <tr>\n",
       "      <th>brown</th>\n",
       "      <td>0.287682</td>\n",
       "      <td>0.287682</td>\n",
       "      <td>0.000000</td>\n",
       "      <td>0.000000</td>\n",
       "    </tr>\n",
       "    <tr>\n",
       "      <th>dog</th>\n",
       "      <td>0.000000</td>\n",
       "      <td>0.000000</td>\n",
       "      <td>0.287682</td>\n",
       "      <td>0.287682</td>\n",
       "    </tr>\n",
       "    <tr>\n",
       "      <th>elephant</th>\n",
       "      <td>0.000000</td>\n",
       "      <td>0.000000</td>\n",
       "      <td>0.287682</td>\n",
       "      <td>0.287682</td>\n",
       "    </tr>\n",
       "    <tr>\n",
       "      <th>fox</th>\n",
       "      <td>0.287682</td>\n",
       "      <td>0.287682</td>\n",
       "      <td>0.000000</td>\n",
       "      <td>0.000000</td>\n",
       "    </tr>\n",
       "    <tr>\n",
       "      <th>jumps</th>\n",
       "      <td>0.000000</td>\n",
       "      <td>2.772589</td>\n",
       "      <td>0.000000</td>\n",
       "      <td>0.000000</td>\n",
       "    </tr>\n",
       "    <tr>\n",
       "      <th>lazy</th>\n",
       "      <td>0.000000</td>\n",
       "      <td>0.000000</td>\n",
       "      <td>0.693147</td>\n",
       "      <td>0.000000</td>\n",
       "    </tr>\n",
       "    <tr>\n",
       "      <th>lion</th>\n",
       "      <td>0.000000</td>\n",
       "      <td>0.000000</td>\n",
       "      <td>0.000000</td>\n",
       "      <td>0.693147</td>\n",
       "    </tr>\n",
       "    <tr>\n",
       "      <th>over</th>\n",
       "      <td>0.000000</td>\n",
       "      <td>0.693147</td>\n",
       "      <td>0.000000</td>\n",
       "      <td>0.000000</td>\n",
       "    </tr>\n",
       "    <tr>\n",
       "      <th>peacock</th>\n",
       "      <td>0.000000</td>\n",
       "      <td>0.000000</td>\n",
       "      <td>0.000000</td>\n",
       "      <td>0.693147</td>\n",
       "    </tr>\n",
       "    <tr>\n",
       "      <th>quick</th>\n",
       "      <td>0.693147</td>\n",
       "      <td>0.000000</td>\n",
       "      <td>0.000000</td>\n",
       "      <td>0.000000</td>\n",
       "    </tr>\n",
       "    <tr>\n",
       "      <th>the</th>\n",
       "      <td>-0.223144</td>\n",
       "      <td>-0.223144</td>\n",
       "      <td>-0.669431</td>\n",
       "      <td>-1.115718</td>\n",
       "    </tr>\n",
       "    <tr>\n",
       "      <th>tiger</th>\n",
       "      <td>0.000000</td>\n",
       "      <td>0.000000</td>\n",
       "      <td>0.000000</td>\n",
       "      <td>0.693147</td>\n",
       "    </tr>\n",
       "  </tbody>\n",
       "</table>\n",
       "</div>"
      ],
      "text/plain": [
       "                 0         1         2         3\n",
       "brown     0.287682  0.287682  0.000000  0.000000\n",
       "dog       0.000000  0.000000  0.287682  0.287682\n",
       "elephant  0.000000  0.000000  0.287682  0.287682\n",
       "fox       0.287682  0.287682  0.000000  0.000000\n",
       "jumps     0.000000  2.772589  0.000000  0.000000\n",
       "lazy      0.000000  0.000000  0.693147  0.000000\n",
       "lion      0.000000  0.000000  0.000000  0.693147\n",
       "over      0.000000  0.693147  0.000000  0.000000\n",
       "peacock   0.000000  0.000000  0.000000  0.693147\n",
       "quick     0.693147  0.000000  0.000000  0.000000\n",
       "the      -0.223144 -0.223144 -0.669431 -1.115718\n",
       "tiger     0.000000  0.000000  0.000000  0.693147"
      ]
     },
     "execution_count": 13,
     "metadata": {},
     "output_type": "execute_result"
    }
   ],
   "source": [
    "tf_idf(docs)"
   ]
  },
  {
   "cell_type": "markdown",
   "metadata": {},
   "source": [
    "**Exercise 3 (20 points)**. \n",
    "\n",
    "1. Write a function that takes a matrix $M$ and an integer $k$ as arguments, and reconstructs a reduced matrix using only the $k$ largest singular values. Use the `scipy.linagl.svd` function to perform the decomposition. This is the least squares approximation to the matrix $M$ in $k$ dimensions.\n",
    "\n",
    "2. Apply the function you just wrote to the following term-frequency matrix for a set of $9$ documents using $k=2$ and print the reconstructed matrix $M'$.\n",
    "```\n",
    "M = np.array([[1, 0, 0, 1, 0, 0, 0, 0, 0],\n",
    "       [1, 0, 1, 0, 0, 0, 0, 0, 0],\n",
    "       [1, 1, 0, 0, 0, 0, 0, 0, 0],\n",
    "       [0, 1, 1, 0, 1, 0, 0, 0, 0],\n",
    "       [0, 1, 1, 2, 0, 0, 0, 0, 0],\n",
    "       [0, 1, 0, 0, 1, 0, 0, 0, 0],\n",
    "       [0, 1, 0, 0, 1, 0, 0, 0, 0],\n",
    "       [0, 0, 1, 1, 0, 0, 0, 0, 0],\n",
    "       [0, 1, 0, 0, 0, 0, 0, 0, 1],\n",
    "       [0, 0, 0, 0, 0, 1, 1, 1, 0],\n",
    "       [0, 0, 0, 0, 0, 0, 1, 1, 1],\n",
    "       [0, 0, 0, 0, 0, 0, 0, 1, 1]])\n",
    "```\n",
    "\n",
    "3. Calculate the pairwise correlation matrix for the original matrix M and the reconstructed matrix using $k=2$ singular values (you may use [scipy.stats.spearmanr](http://docs.scipy.org/doc/scipy/reference/generated/scipy.stats.spearmanr.html) to do the calculations). Consider the fist 5 sets of documents as one group $G1$ and the last 4 as another group $G2$ (i.e. first 5 and last 4 columns). What is the average within group correlation for $G1$, $G2$ and the average cross-group correlation for G1-G2 using either $M$ or $M'$. (Do not include self-correlation in the within-group calculations.)."
   ]
  },
  {
   "cell_type": "code",
   "execution_count": 14,
   "metadata": {
    "collapsed": false
   },
   "outputs": [],
   "source": [
    "from scipy import linalg \n",
    "import numpy as np \n",
    "\n",
    "def matrix_reconstruc(M,k):\n",
    "    '''Function to reconstruct a reduced matrix using only the first k singular values. Svd decomposition.'''\n",
    "    U, s, Vh=linalg.svd(M,full_matrices=False)\n",
    "    \n",
    "    #replace singular values beyond k with 0\n",
    "    s[k:]=0\n",
    "    \n",
    "    #reconstruct and return the matrix \n",
    "    return U @ (np.diag(s) @ Vh)\n",
    "    \n",
    "    "
   ]
  },
  {
   "cell_type": "code",
   "execution_count": 15,
   "metadata": {
    "collapsed": false
   },
   "outputs": [
    {
     "name": "stdout",
     "output_type": "stream",
     "text": [
      "[[ 0.16205797  0.40049828  0.37895454  0.46756626  0.17595367 -0.05265495\n",
      "  -0.11514284 -0.15910198 -0.09183827]\n",
      " [ 0.14058529  0.36980077  0.32899603  0.40042722  0.16497247 -0.03281545\n",
      "  -0.07056857 -0.09676827 -0.04298073]\n",
      " [ 0.15244948  0.50500444  0.35793658  0.41010678  0.23623173  0.02421652\n",
      "   0.05978051  0.0868573   0.12396632]\n",
      " [ 0.25804933  0.84112343  0.60571995  0.69735717  0.39231795  0.03311801\n",
      "   0.08324491  0.12177239  0.18737973]\n",
      " [ 0.44878975  1.23436483  1.0508615   1.26579559  0.55633139 -0.07378998\n",
      "  -0.15469383 -0.20959816 -0.04887954]\n",
      " [ 0.15955428  0.5816819   0.37521897  0.41689768  0.27654052  0.05590374\n",
      "   0.1322185   0.18891146  0.21690761]\n",
      " [ 0.15955428  0.5816819   0.37521897  0.41689768  0.27654052  0.05590374\n",
      "   0.1322185   0.18891146  0.21690761]\n",
      " [ 0.21846278  0.54958058  0.51096047  0.62805802  0.24253607 -0.06541098\n",
      "  -0.14252146 -0.19661186 -0.1079133 ]\n",
      " [ 0.09690639  0.53206438  0.22991365  0.21175363  0.26652513  0.13675618\n",
      "   0.31462078  0.44444058  0.42496948]\n",
      " [-0.06125388  0.23210821 -0.1388984  -0.26564589  0.14492549  0.24042105\n",
      "   0.54614717  0.7673742   0.66370933]\n",
      " [-0.06467702  0.33528115 -0.14564055 -0.30140607  0.20275641  0.30572612\n",
      "   0.69489337  0.97661121  0.84874969]\n",
      " [-0.04308204  0.25390566 -0.09666695 -0.20785821  0.1519134   0.22122703\n",
      "   0.50294488  0.70691163  0.6155044 ]]\n"
     ]
    }
   ],
   "source": [
    "M = np.array([[1, 0, 0, 1, 0, 0, 0, 0, 0],\n",
    "    [1, 0, 1, 0, 0, 0, 0, 0, 0],\n",
    "    [1, 1, 0, 0, 0, 0, 0, 0, 0],\n",
    "    [0, 1, 1, 0, 1, 0, 0, 0, 0],\n",
    "    [0, 1, 1, 2, 0, 0, 0, 0, 0],\n",
    "    [0, 1, 0, 0, 1, 0, 0, 0, 0],\n",
    "    [0, 1, 0, 0, 1, 0, 0, 0, 0],\n",
    "    [0, 0, 1, 1, 0, 0, 0, 0, 0],\n",
    "    [0, 1, 0, 0, 0, 0, 0, 0, 1],\n",
    "    [0, 0, 0, 0, 0, 1, 1, 1, 0],\n",
    "    [0, 0, 0, 0, 0, 0, 1, 1, 1],\n",
    "    [0, 0, 0, 0, 0, 0, 0, 1, 1]])\n",
    "\n",
    "\n",
    "#Apply the function and print the reconstructed matrix\n",
    "M_prime=matrix_reconstruc(M,2)\n",
    "print(matrix_reconstruc(M,2))"
   ]
  },
  {
   "cell_type": "code",
   "execution_count": 16,
   "metadata": {
    "collapsed": false
   },
   "outputs": [
    {
     "name": "stdout",
     "output_type": "stream",
     "text": [
      "[[ 1.         -0.19245009  0.          0.07339758 -0.33333333 -0.17407766\n",
      "  -0.25819889 -0.33333333 -0.33333333]\n",
      " [-0.19245009  1.          0.         -0.12712835  0.57735027 -0.30151134\n",
      "  -0.4472136  -0.57735027 -0.19245009]\n",
      " [ 0.          0.          1.          0.43822991  0.         -0.21320072\n",
      "  -0.31622777 -0.40824829 -0.40824829]\n",
      " [ 0.07339758 -0.12712835  0.43822991  1.         -0.33028913 -0.17248787\n",
      "  -0.25584086 -0.33028913 -0.33028913]\n",
      " [-0.33333333  0.57735027  0.         -0.33028913  1.         -0.17407766\n",
      "  -0.25819889 -0.33333333 -0.33333333]\n",
      " [-0.17407766 -0.30151134 -0.21320072 -0.17248787 -0.17407766  1.\n",
      "   0.67419986  0.52223297 -0.17407766]\n",
      " [-0.25819889 -0.4472136  -0.31622777 -0.25584086 -0.25819889  0.67419986\n",
      "   1.          0.77459667  0.25819889]\n",
      " [-0.33333333 -0.57735027 -0.40824829 -0.33028913 -0.33333333  0.52223297\n",
      "   0.77459667  1.          0.55555556]\n",
      " [-0.33333333 -0.19245009 -0.40824829 -0.33028913 -0.33333333 -0.17407766\n",
      "   0.25819889  0.55555556  1.        ]]\n"
     ]
    }
   ],
   "source": [
    "from scipy import stats\n",
    "\n",
    "#pairwise correlation matrix for the original matrix M\n",
    "corr, p = stats.spearmanr(M) \n",
    "print(corr)"
   ]
  },
  {
   "cell_type": "code",
   "execution_count": 17,
   "metadata": {
    "collapsed": false
   },
   "outputs": [
    {
     "name": "stdout",
     "output_type": "stream",
     "text": [
      "average within group correlation for G1 (Using M)\n",
      "0.208462149304\n",
      "\n",
      " average within group correlation for G2 (Using M)\n",
      "0.576338286115\n",
      "\n",
      " average between group correlation (Using M)\n",
      "-0.307562188906\n"
     ]
    }
   ],
   "source": [
    "#average within group correlation for G1 (Using M)\n",
    "print(\"average within group correlation for G1 (Using M)\")\n",
    "G1=M[:,0:5]\n",
    "corrG1, p = stats.spearmanr(G1) \n",
    "print(np.mean(corrG1))\n",
    "\n",
    "#average within group correlation for G2 (Using M)\n",
    "G2=M[:,5:]\n",
    "\n",
    "print(\"\\n average within group correlation for G2 (Using M)\")\n",
    "G2=M[:,5:]\n",
    "corrG2, p = stats.spearmanr(G2) \n",
    "print(np.mean(corrG2))\n",
    "\n",
    "#average between group correlation (Using M)\n",
    "print(\"\\n average between group correlation (Using M)\")\n",
    "print(corr[5:, :5].mean())\n"
   ]
  },
  {
   "cell_type": "code",
   "execution_count": 18,
   "metadata": {
    "collapsed": false
   },
   "outputs": [
    {
     "name": "stdout",
     "output_type": "stream",
     "text": [
      "[[ 1.          0.84615385  1.          1.          0.72027972 -0.83216783\n",
      "  -0.83216783 -0.83216783 -0.7972028 ]\n",
      " [ 0.84615385  1.          0.84615385  0.84615385  0.97202797 -0.55244755\n",
      "  -0.55244755 -0.55244755 -0.47552448]\n",
      " [ 1.          0.84615385  1.          1.          0.72027972 -0.83216783\n",
      "  -0.83216783 -0.83216783 -0.7972028 ]\n",
      " [ 1.          0.84615385  1.          1.          0.72027972 -0.83216783\n",
      "  -0.83216783 -0.83216783 -0.7972028 ]\n",
      " [ 0.72027972  0.97202797  0.72027972  0.72027972  1.         -0.38461538\n",
      "  -0.38461538 -0.38461538 -0.29370629]\n",
      " [-0.83216783 -0.55244755 -0.83216783 -0.83216783 -0.38461538  1.          1.\n",
      "   1.          0.97902098]\n",
      " [-0.83216783 -0.55244755 -0.83216783 -0.83216783 -0.38461538  1.          1.\n",
      "   1.          0.97902098]\n",
      " [-0.83216783 -0.55244755 -0.83216783 -0.83216783 -0.38461538  1.          1.\n",
      "   1.          0.97902098]\n",
      " [-0.7972028  -0.47552448 -0.7972028  -0.7972028  -0.29370629  0.97902098\n",
      "   0.97902098  0.97902098  1.        ]]\n"
     ]
    }
   ],
   "source": [
    "#pairwise correlation matrix for M_prime\n",
    "corr_prime, p = stats.spearmanr(M_prime) \n",
    "print(corr_prime)"
   ]
  },
  {
   "cell_type": "code",
   "execution_count": 19,
   "metadata": {
    "collapsed": false
   },
   "outputs": [
    {
     "name": "stdout",
     "output_type": "stream",
     "text": [
      "average within group correlation for G1 (Using M_prime)\n",
      "0.893706293706\n",
      "\n",
      " average within group correlation for G2 (Using M_prime)\n",
      "0.992132867133\n",
      "\n",
      " average between group correlation (Using M_prime)\n",
      "-0.673076923077\n"
     ]
    }
   ],
   "source": [
    "#average within group correlation for G1 (Using M_prime)\n",
    "print(\"average within group correlation for G1 (Using M_prime)\")\n",
    "G1_prime=M_prime[:,0:5]\n",
    "corrG1_prime, p = stats.spearmanr(G1_prime) \n",
    "print(np.mean(corrG1_prime))\n",
    "\n",
    "#average within group correlation for G2 (Using M_prime)\n",
    "G2_prime=M_prime[:,5:]\n",
    "\n",
    "print(\"\\n average within group correlation for G2 (Using M_prime)\")\n",
    "G2_prime=M_prime[:,5:]\n",
    "corrG2_prime, p = stats.spearmanr(G2_prime) \n",
    "print(np.mean(corrG2_prime))\n",
    "\n",
    "#average between group correlation (Using M_prime)\n",
    "print(\"\\n average between group correlation (Using M_prime)\")\n",
    "print(corr_prime[5:, :5].mean())"
   ]
  },
  {
   "cell_type": "markdown",
   "metadata": {},
   "source": [
    "**Exercise 4 (40 points)**. Clustering with LSA\n",
    "\n",
    "1. Begin by loading a pubmed database of selected article titles using 'cPickle'. With the following:\n",
    "```import cPickle\n",
    "\n",
    "docs = cPickle.load(open('pubmed.pic'))```\n",
    "\n",
    "    Create a tf-idf matrix for every term that appears at least once in any of the documents. What is the shape of the tf-idf matrix? \n",
    "\n",
    "2. Perform SVD on the tf-idf matrix to obtain $U \\Sigma V^T$ (often written as $T \\Sigma D^T$ in this context with $T$ representing the terms and $D$ representing the documents). If we set all but the top $k$ singular values to 0, the reconstructed matrix is essentially $U_k \\Sigma_k V_k^T$, where $U_k$ is $m \\times k$, $\\Sigma_k$ is $k \\times k$ and $V_k^T$ is $k \\times n$. Terms in this reduced space are represented by $U_k \\Sigma_k$ and documents by $\\Sigma_k V^T_k$. Reconstruct the matrix using the first $k=10$ singular values.\n",
    "\n",
    "3. Use agglomerative hierachical clustering with complete linkage to plot a dendrogram and comment on the likely number of  document clusters with $k = 100$. Use the dendrogram function from [SciPy ](https://docs.scipy.org/doc/scipy-0.15.1/reference/generated/scipy.cluster.hierarchy.dendrogram.html).\n",
    "\n",
    "4. Determine how similar each of the original documents is to the new document `mystery.txt`. Since $A = U \\Sigma V^T$, we also have $V = A^T U S^{-1}$ using orthogonality and the rule for transposing matrix products. This suggests that in order to map the new document to the same concept space, first find the tf-idf vector $v$ for the new document - this must contain all (and only) the terms present in the existing tf-idx matrix. Then the query vector $q$ is given by $v^T U_k \\Sigma_k^{-1}$. Find the 10 documents most similar to the new document and the 10 most dissimilar. "
   ]
  },
  {
   "cell_type": "code",
   "execution_count": 20,
   "metadata": {
    "collapsed": false
   },
   "outputs": [
    {
     "name": "stdout",
     "output_type": "stream",
     "text": [
      "Requirement already satisfied (use --upgrade to upgrade): sparsesvd in /opt/conda/lib/python3.5/site-packages\r\n",
      "Requirement already satisfied (use --upgrade to upgrade): scipy>=0.6.0 in /opt/conda/lib/python3.5/site-packages (from sparsesvd)\r\n",
      "Requirement already satisfied (use --upgrade to upgrade): cython in /opt/conda/lib/python3.5/site-packages (from sparsesvd)\r\n",
      "\u001b[33mYou are using pip version 8.1.2, however version 9.0.1 is available.\r\n",
      "You should consider upgrading via the 'pip install --upgrade pip' command.\u001b[0m\r\n"
     ]
    }
   ],
   "source": [
    "!pip install sparsesvd\n",
    "from sparsesvd import sparsesvd \n",
    "from scipy.sparse import csc_matrix"
   ]
  },
  {
   "cell_type": "code",
   "execution_count": 21,
   "metadata": {
    "collapsed": false
   },
   "outputs": [
    {
     "name": "stdout",
     "output_type": "stream",
     "text": [
      "(6488, 178)\n"
     ]
    }
   ],
   "source": [
    "#Load pubmed database \n",
    "try:\n",
    "   import cPickle as pickle\n",
    "except:\n",
    "   import pickle\n",
    "\n",
    "docs = pickle.load(open('pubmed.pic', 'rb'))\n",
    "\n",
    "\n",
    "#create a tf-idf matrix and find its shape\n",
    "tf_idf_matrx=tf_idf(docs)\n",
    "print(tf_idf_matrx.shape)"
   ]
  },
  {
   "cell_type": "code",
   "execution_count": 22,
   "metadata": {
    "collapsed": false
   },
   "outputs": [
    {
     "data": {
      "text/plain": [
       "(6488, 178)"
      ]
     },
     "execution_count": 22,
     "metadata": {},
     "output_type": "execute_result"
    }
   ],
   "source": [
    "#Call the function created in Question 2 to reconstruct tf_idf_matrx with k=10\n",
    "recon_10=matrix_reconstruc(tf_idf_matrx,10)\n",
    "recon_10.shape"
   ]
  },
  {
   "cell_type": "code",
   "execution_count": 23,
   "metadata": {
    "collapsed": false
   },
   "outputs": [
    {
     "data": {
      "image/png": "[encoded data removed]",
      "text/plain": [
       "<matplotlib.figure.Figure at 0x7fbdeb367da0>"
      ]
     },
     "metadata": {},
     "output_type": "display_data"
    }
   ],
   "source": [
    "from scipy.cluster.hierarchy import linkage, dendrogram\n",
    "from scipy.spatial.distance import pdist\n",
    "import matplotlib.pyplot as plt\n",
    "\n",
    "#Reconstuct using first 100 singular values\n",
    "U, s, Vh = sparsesvd(csc_matrix(tf_idf_matrx), k=100)                  \n",
    "x_matrix = ( np.diag(s)@ Vh).T\n",
    "\n",
    "#compute the distance \n",
    "distance = pdist(x_matrix, metric='cosine')\n",
    "#calculate the linkage\n",
    "link = linkage(distance)\n",
    "plt.figure(figsize=(20,50))\n",
    "dendrogram(link, orientation='right');"
   ]
  },
  {
   "cell_type": "code",
   "execution_count": 24,
   "metadata": {
    "collapsed": false,
    "scrolled": true
   },
   "outputs": [
    {
     "name": "stdout",
     "output_type": "stream",
     "text": [
      "Most similar:\n",
      "0 26\n",
      "1 7\n",
      "2 17\n",
      "3 23\n",
      "4 9\n",
      "5 0\n",
      "6 2\n",
      "7 3\n",
      "8 6\n",
      "9 1\n",
      "\n",
      "\n",
      " Least similar:\n",
      "178 10\n",
      "177 18\n",
      "176 25\n",
      "175 83\n",
      "174 16\n",
      "173 60\n",
      "172 32\n",
      "171 42\n",
      "170 20\n",
      "169 80\n"
     ]
    }
   ],
   "source": [
    "from scipy.spatial.distance import pdist\n",
    "\n",
    "#import mystery and call the tf_idf function\n",
    "mystery={'mystery': open('mystery.txt').read()}\n",
    "myst_tfidf=tf_idf(mystery)\n",
    "\n",
    "#merge the two datasets\n",
    "new=tf_idf_matrx.merge(myst_tfidf,left_index=True,right_index=True,how=\"left\")\n",
    "#delete unnecessary columns\n",
    "new=new[\"0_y\"]\n",
    "#change NAs to 0's \n",
    "new=new.fillna(0)\n",
    "\n",
    "#calculate the query vector\n",
    "v=new.T @ ( U.T @ np.diag(1.0/s))\n",
    "\n",
    "#use cosine distance function I wrote in previous problem to find the cosine distance between old and new\n",
    "distances=tf_idf_matrx.columns[np.argsort(Cosine(v,x_matrix ))]\n",
    "\n",
    "#Print 10 most similar\n",
    "print(\"Most similar:\")\n",
    "for i, j in enumerate(distances[-10:]):\n",
    "    print(i, j)\n",
    "\n",
    "#Print 10 least similar\n",
    "print(\"\\n\\n Least similar:\")\n",
    "for i, j in enumerate(distances[:10]):\n",
    "    print(len(docs) - i, j)\n"
   ]
  },
  {
   "cell_type": "markdown",
   "metadata": {},
   "source": [
    "Notes on the Pubmed articles\n",
    "----\n",
    "\n",
    "These were downloaded with the following script.\n",
    "\n",
    "```python\n",
    "from Bio import Entrez, Medline\n",
    "Entrez.email = \"YOUR EMAIL HERE\"\n",
    "import cPickle\n",
    "\n",
    "try:\n",
    "    docs = cPickle.load(open('pubmed.pic'))\n",
    "except Exception, e:\n",
    "    print e\n",
    "\n",
    "    docs = {}\n",
    "    for term in ['plasmodium', 'diabetes', 'asthma', 'cytometry']:\n",
    "        handle = Entrez.esearch(db=\"pubmed\", term=term, retmax=50)\n",
    "        result = Entrez.read(handle)\n",
    "        handle.close()\n",
    "        idlist = result[\"IdList\"]\n",
    "        handle2 = Entrez.efetch(db=\"pubmed\", id=idlist, rettype=\"medline\", retmode=\"text\")\n",
    "        result2 = Medline.parse(handle2)\n",
    "        for record in result2:\n",
    "            title = record.get(\"TI\", None)\n",
    "            abstract = record.get(\"AB\", None)\n",
    "            if title is None or abstract is None:\n",
    "                continue\n",
    "            docs[title] = '\\n'.join([title, abstract])\n",
    "            print title\n",
    "        handle2.close()\n",
    "    cPickle.dump(docs, open('pubmed.pic', 'w'))\n",
    "docs.values()\n",
    "```"
   ]
  },
  {
   "cell_type": "code",
   "execution_count": null,
   "metadata": {
    "collapsed": true
   },
   "outputs": [],
   "source": []
  }
 ],
 "metadata": {
  "kernelspec": {
   "display_name": "Python 3",
   "language": "python",
   "name": "python3"
  },
  "language_info": {
   "codemirror_mode": {
    "name": "ipython",
    "version": 3
   },
   "file_extension": ".py",
   "mimetype": "text/x-python",
   "name": "python",
   "nbconvert_exporter": "python",
   "pygments_lexer": "ipython3",
   "version": "3.5.2"
  }
 },
 "nbformat": 4,
 "nbformat_minor": 0
}
