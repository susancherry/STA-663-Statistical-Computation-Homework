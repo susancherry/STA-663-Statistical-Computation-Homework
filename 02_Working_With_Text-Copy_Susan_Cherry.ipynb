{
 "cells": [
  {
   "cell_type": "code",
   "execution_count": 1,
   "metadata": {
    "collapsed": true
   },
   "outputs": [],
   "source": [
    "%matplotlib inline"
   ]
  },
  {
   "cell_type": "markdown",
   "metadata": {},
   "source": [
    "# Working with text\n",
    "\n",
    "One of the major reaosns for using Python is its powerful built-in methods for working with text data. Hence Python is often the language of choice for data munging or wrangling. These exercises give you some familiarity with how to work with text data."
   ]
  },
  {
   "cell_type": "markdown",
   "metadata": {},
   "source": [
    "**1**. (25 points) A Caesar cipher is a very simple method of encoding and decoding data. The cipher simply replaces characters with the character offset by $k$ places. For example, if the offset is 3, we replace `a` with `d`, `b` with `e` etc. The cipher wraps around so we replace `y` with `b`, `z` with `c` and so on. Punctuation, spaces and numbers are left unchanged. Note that we don't need a decode function - we can just use a negative offset to reverse the encoding.\n",
    "\n",
    "- Write a function `encode(s, k)` where `s` is the string to be enoded and `k` is the offset. Check that you can encode \n",
    "\n",
    "```\n",
    "If you think Python is hell, try writing this function in R!\n",
    "```\n",
    "with offset 10 as\n",
    "\n",
    "```\n",
    "Sp iye drsxu Zidryx sc rovv, dbi gbsdsxq drsc pexmdsyx sx B!\n",
    "```\n",
    "\n",
    "and make sure you can recover the original string with offset -10.\n",
    "\n",
    "Hint: Use the following\n",
    "\n",
    "```python\n",
    "chr\n",
    "ord\n",
    "string.ascii_uppercase\n",
    "string.ascii_lowercase\n",
    "str.maketrans\n",
    "str.translate\n",
    "dictionaries\n",
    "```"
   ]
  },
  {
   "cell_type": "code",
   "execution_count": 66,
   "metadata": {
    "collapsed": false
   },
   "outputs": [
    {
     "name": "stdout",
     "output_type": "stream",
     "text": [
      "Sp iye drsxu Zidryx sc rovv, dbi gbsdsxq drsc pexmdsyx sx B!\n",
      "If you think Python is hell, try writing this function in R!\n"
     ]
    }
   ],
   "source": [
    "string=\"If you think Python is hell, try writing this function in R!\"\n",
    "\n",
    "def Caesar_cipher(s,k):\n",
    "    '''A function for the Caesar cipher\n",
    "        Input: Takes in a string and an integer\n",
    "        Output: The original strink with letters offset by k\n",
    "    '''\n",
    "    s=list(s)\n",
    "    for i in range(0,len(s)):\n",
    "        \n",
    "        #If the letter is lowercase then change it\n",
    "        if ord(s[i])>=97 and ord(s[i])<=122:\n",
    "            new=ord(s[i])+k\n",
    "            if new>=97 and new<=122:\n",
    "                s[i]=chr(new)\n",
    "            #allow the cipher to wrap around\n",
    "            elif new >122:\n",
    "                new=new-122\n",
    "                s[i]=chr(new+97-1)\n",
    "            elif new <97:\n",
    "                new=97-new\n",
    "                s[i]=chr(122-new+1)\n",
    "                \n",
    "        #Do the same if the letter is uppercase\n",
    "        if ord(s[i])>=65 and ord(s[i])<=90:\n",
    "            new=ord(s[i])+k\n",
    "            if new>=65 and new<=90:\n",
    "                s[i]=chr(new)\n",
    "            elif new >90:\n",
    "                new=new-90\n",
    "                s[i]=chr(new+65-1)\n",
    "            elif new <65:\n",
    "                new=65-new\n",
    "                s[i]=chr(90-new+1)\n",
    "    #rejoin the string and return\n",
    "    s=\"\".join(s)\n",
    "    return s\n",
    "\n",
    "#check to make sure it works\n",
    "print(Caesar_cipher(string,10))\n",
    "new_string=Caesar_cipher(string,10)\n",
    "print(Caesar_cipher(new_string,-10))\n"
   ]
  },
  {
   "cell_type": "markdown",
   "metadata": {},
   "source": [
    "**2**. (50 points) \n",
    "\n",
    "- Read the E coli genomic DNA from the file `ecoli.fas` into a string variable containing only the sequence data with no header information or line breaks. The string should start with `agcttttca` and be 4639675 characters long. (5 points)\n",
    "- Find the CG ratio, defined as (c+g)/(a+c+t+g). (10 points)\n",
    "- Find the average numbers of the letter 'a' in shifting windows of length 10. The first 3 windows are ('agcttttcat', 'gcttttcatt', 'cttttcattc'). (15 points)\n",
    "- Use regular expressions to find all non-overlapping occurrences of the string 'gatt-aca' where the '-' means any number of letters - that is, each string found must begin with 'gatt' and end with 'aca' but it does not matter what is in the middle. For each such string found, print the middle don't-care sequence and the starting position of the string (i.e. position of the first letter g in the full sequence). Restrict the search to the first 10,000 bases in the DNA sequence. (20 points)"
   ]
  },
  {
   "cell_type": "code",
   "execution_count": 2,
   "metadata": {
    "collapsed": false,
    "scrolled": true
   },
   "outputs": [
    {
     "data": {
      "text/plain": [
       "4639675"
      ]
     },
     "execution_count": 2,
     "metadata": {},
     "output_type": "execute_result"
    }
   ],
   "source": [
    "#open the file\n",
    "with open(\"/Users/susancherry/Downloads/sta-663-2017-master 3/homework/ecoli.fas\") as f:\n",
    "    lines=f.readlines()\n",
    "ecoli=\"\".join([k.strip() for k in lines[1:]])\n",
    " \n",
    "#print(len(ecoli))\n",
    "len(ecoli)\n",
    "\n",
    "\n"
   ]
  },
  {
   "cell_type": "code",
   "execution_count": 3,
   "metadata": {
    "collapsed": false
   },
   "outputs": [
    {
     "name": "stdout",
     "output_type": "stream",
     "text": [
      "0.5078969970957018\n"
     ]
    }
   ],
   "source": [
    "#count the number of each letter\n",
    "num_a=ecoli.count(\"a\")\n",
    "num_c=ecoli.count(\"c\")\n",
    "num_g=ecoli.count(\"g\")\n",
    "num_t=ecoli.count(\"t\")\n",
    "\n",
    "#calculate the ratio\n",
    "print((num_c+num_g)/(num_a+num_c+num_g+num_t))"
   ]
  },
  {
   "cell_type": "code",
   "execution_count": 5,
   "metadata": {
    "collapsed": false
   },
   "outputs": [
    {
     "name": "stdout",
     "output_type": "stream",
     "text": [
      "2.4618727860739944\n"
     ]
    }
   ],
   "source": [
    "\n",
    "acount=[]\n",
    "length=len(ecoli)-9\n",
    "\n",
    "#go through each window\n",
    "for i in range(1,length):\n",
    "    window=ecoli[i:(i+10)]\n",
    "    acount.append(window.count(\"a\"))#count the number of a's in each window\n",
    "    \n",
    "#find the mean number of a's    \n",
    "a_mean=sum(acount)/len(acount)\n",
    "print(a_mean)\n"
   ]
  },
  {
   "cell_type": "code",
   "execution_count": null,
   "metadata": {
    "collapsed": true
   },
   "outputs": [],
   "source": []
  },
  {
   "cell_type": "code",
   "execution_count": 47,
   "metadata": {
    "collapsed": false
   },
   "outputs": [
    {
     "name": "stdout",
     "output_type": "stream",
     "text": [
      "Starting Position: 42\n",
      "Middle of String: aaaaaaagagtgtctgatagcagcttctgaactggttacctgccgtgagtaaattaaaattttattgacttaggtcactaaatactttaaccaatataggcatagcgc\n",
      "Starting Position: 485\n",
      "Middle of String: gaaaaaaccattagcggccaggatgctttacccaatatcagcgatgccgaacgtatttttgccgaacttttgacgggactcgccgccgcccagccggggttcccgctggcgcaattgaaaactttcgtcgatcaggaatttgcccaaataaa\n",
      "Starting Position: 701\n",
      "Middle of String: tgccgtggcgagaaaatgtcgatcgccattatggccggcgtattagaagcgcgcggtc\n",
      "Starting Position: 996\n",
      "Middle of String: gttgcgagatttggacggacgttgacggggtctatacctgcgacccgcgtcaggtgcccgatgcgaggttgttgaagtcgatgtcctaccaggaagcgatggagctttcctacttcggcgctaaagttcttcacccccgcaccattacccccatcgcccagttccagatcccttgcctgattaaaaataccggaaatcctcaagcaccaggtacgctcattggtgccagccgtgatgaagacgaattaccggtcaagggcatttccaatctgaata\n",
      "Starting Position: 1379\n",
      "Middle of String: acgcaatcatcttccgaat\n",
      "Starting Position: 1745\n",
      "Middle of String: ggcgtcggtggcgttggcggtgcgctgctggagcaactgaagcgtcagcaaagctggctgaagaataa\n",
      "Starting Position: 2094\n",
      "Middle of String: actaccatcagttgcgttatgcggcggaaaaatcgcggcgtaaattcctctatg\n",
      "Starting Position: 2170\n",
      "Middle of String: accggttattgagaacctgcaaaatctgctcaatgcaggtgatgaattgatgaagttctccggcattctttctggttcgctttcttatatcttcggcaagttagacgaaggcatgagtttctccgaggcgaccacgctggcgcgggaaatgggttataccgaaccggacccgcgagatgatctttctggtatggatgtggcgcgtaaactattgattctcgctcgtgaaacgggacgtgaactggagctggcggatattgaaattgaacctgtgctgcccgcagagtttaacgccgagggtgatgttgccgcttttatggcgaatctgtc\n",
      "Starting Position: 2609\n",
      "Middle of String: gccgaagtggatggtaatgatccgctgttcaaagtgaaaaatggcgaaaacgccctggccttctatagccactattatcagccgctgccgttggtactgcgcggatatggtgcgggcaatgacgtt\n",
      "Starting Position: 3336\n",
      "Middle of String: aaagtctcgacggcagaagccagggctattttaccggcgcagtatcgccgccaggattgcattgcgcacgggcg\n",
      "Starting Position: 3880\n",
      "Middle of String: ttgtcacccgcagtgcgaagatcctctcggcgtttattggtgatgaaatccc\n",
      "Starting Position: 4054\n",
      "Middle of String: tcggcggtcgctttatggc\n",
      "Starting Position: 4285\n",
      "Middle of String: tcgatgcctgtcaggcgctggtgaagcaggcgtttgatgatgaagaactgaaagtggcgctagggttaaactcggctaactcgatta\n",
      "Starting Position: 4398\n",
      "Middle of String: tgctactactttgaagctgttgcgcagctgccgcaggagacgcgcaaccagctggttgtctcggtgccaagcggaaacttcggcgatttgacggcgggtctgctggcgaagtcactcggtctgccggtgaaacgttttattgctgcgaccaacgtgaacgataccgtgccacgtttcctgcacgacggtcagtggtcacccaaagcgactcaggcgacgttatccaacgcgatggacgtgagtcagccga\n",
      "Starting Position: 4896\n",
      "Middle of String: ctcggtgaaacgttggatctgccaaaagagctggcagaacgtgctgatttacccttgctttc\n",
      "Starting Position: 4978\n",
      "Middle of String: ttgctgcgttgcgtaaattgatgatgaatcatcagtaaaatctattcattatctcaatcaggccgggtttgcttttatgcagcccggcttttttatgaagaaattatggagaaaaatg\n",
      "Starting Position: 5143\n",
      "Middle of String: aggattgcggagaata\n",
      "Starting Position: 5792\n",
      "Middle of String: ttcaataatgaaacgactcatcagaccgcgtgctttcttagcgtagaagctgatgatcttaaatttgccgttcttctcatcgagga\n",
      "Starting Position: 5926\n",
      "Middle of String: taaaatactcatctgacgccagattaatcacc\n",
      "Starting Position: 6526\n",
      "Middle of String: actcctgcgaa\n",
      "Starting Position: 6836\n",
      "Middle of String: gttttcggcataaatgtagttggcaacgatggagctgaaggcaa\n",
      "Starting Position: 7317\n",
      "Middle of String: atcgccatcaacggg\n",
      "Starting Position: 7380\n",
      "Middle of String: gccagcagagtaaag\n",
      "Starting Position: 8368\n",
      "Middle of String: ccggaataccgtaagttgattgatgatgctgtcgcctgggcgaa\n",
      "Starting Position: 9670\n",
      "Middle of String: cgcaa\n",
      "done\n"
     ]
    }
   ],
   "source": [
    "import re\n",
    "\n",
    "#get just the first 10000\n",
    "first_10000=ecoli[0:10000]\n",
    "len(first_10000)\n",
    "\n",
    "i=0\n",
    "while i<10000:\n",
    "    #get a substring \n",
    "    sub=first_10000[i:]\n",
    "    # check if it begins with the correct letters\n",
    "    if sub[0:4]==\"gatt\":\n",
    "        #if it does, find the next \"aca\"\n",
    "        ending=re.search('aca',sub)\n",
    "        if ending:\n",
    "            #find the new ending index\n",
    "            end_index=i+ending.end()\n",
    "            #pring the beginning position of the substring and the middle of the substring\n",
    "            print(\"Starting Position:\", i)\n",
    "            print('Middle of String:',ecoli[i+4:end_index-3])\n",
    "            #update i\n",
    "            i=end_index\n",
    "        else:\n",
    "            #Otherwise, just go to the next i\n",
    "            i=i+1\n",
    "    else:\n",
    "        i=i+1\n",
    "print('done')"
   ]
  },
  {
   "cell_type": "markdown",
   "metadata": {},
   "source": [
    "**3**. (25 points) Read in the text of Ulysses by James Joyce from the file `'Ulysses.txt`. \n",
    "\n",
    "- Find the 10 most frequently used words that begin with the letter 'u' in the full text using a generator to read in only one line at a time (this is essential when dealing with huge text files that may otherwise run out of memory). \n",
    "\n",
    "    - A word cannot contain punctuation or the newline character '\\n'\n",
    "    - Ignore case - so ulysses and Ulysses are considered the same word\n",
    "\n",
    "Note: punctuation is any character in string.punctuation from the `string` package"
   ]
  },
  {
   "cell_type": "code",
   "execution_count": 64,
   "metadata": {
    "collapsed": false
   },
   "outputs": [
    {
     "name": "stdout",
     "output_type": "stream",
     "text": [
      "['upper', 'unless', 'understand', 'usual', 'use', 'used', 'upon', 'us', 'under', 'up']\n"
     ]
    }
   ],
   "source": [
    "from string import punctuation\n",
    "import re\n",
    "\n",
    "freq=[]\n",
    "wordlist=[]\n",
    "\n",
    "#open and read in the file\n",
    "for line in open('/Users/susancherry/Ulysses.txt', \"r\"):\n",
    "    f=line\n",
    "    if f != '\\n':\n",
    "        lower=f.lower() #convert to lower case\n",
    "        \n",
    "        split_lower=f.split() # split worda apart\n",
    "\n",
    "        for w in split_lower:\n",
    "            if w[0]==\"u\" or w[0]==\"U\": #check if the word begins with u\n",
    "                if any(char in punctuation for char in w): #check if the word has punctuation \n",
    "                    \n",
    "                    continue\n",
    "                else:\n",
    "                    if w not in wordlist: #if we made it this far, append the word to list\n",
    "                        wordlist.append(w)\n",
    "                        freq.append(1) #also keep track of the frequency\n",
    "                    else:\n",
    "                        position=wordlist.index(w) #if it's already been seen, update freq\n",
    "                        freq[position]=freq[position]+1\n",
    "\n",
    "sorted_list=sorted(freq) #sort the frequency\n",
    "largest_10=sorted_list[-10:] #find the largest frequencies \n",
    "most_frequent_words=[]\n",
    "\n",
    "#iterate through largest frequences\n",
    "for i in range(0,10):\n",
    "    #if the word hasn't already been added to the list, add to the list\n",
    "    if wordlist[freq.index(largest_10[i])] not in most_frequent_words:\n",
    "        most_frequent_words.append(wordlist[freq.index(largest_10[i])])\n",
    "    else:\n",
    "        #if it has, reverse the list to find the second instance using the index command\n",
    "        reved=list(reversed(wordlist))\n",
    "        revfreq=list(reversed(freq))\n",
    "        most_frequent_words.append(reved[revfreq.index(largest_10[i])])\n",
    "\n",
    "#print the most frequent words        \n",
    "print(most_frequent_words)"
   ]
  },
  {
   "cell_type": "code",
   "execution_count": null,
   "metadata": {
    "collapsed": true
   },
   "outputs": [],
   "source": []
  },
  {
   "cell_type": "code",
   "execution_count": null,
   "metadata": {
    "collapsed": true
   },
   "outputs": [],
   "source": []
  }
 ],
 "metadata": {
  "anaconda-cloud": {},
  "kernelspec": {
   "display_name": "Python [default]",
   "language": "python",
   "name": "python3"
  },
  "language_info": {
   "codemirror_mode": {
    "name": "ipython",
    "version": 3
   },
   "file_extension": ".py",
   "mimetype": "text/x-python",
   "name": "python",
   "nbconvert_exporter": "python",
   "pygments_lexer": "ipython3",
   "version": "3.5.2"
  },
  "latex_envs": {
   "bibliofile": "biblio.bib",
   "cite_by": "apalike",
   "current_citInitial": 1,
   "eqLabelWithNumbers": true,
   "eqNumInitial": 0
  }
 },
 "nbformat": 4,
 "nbformat_minor": 0
}
