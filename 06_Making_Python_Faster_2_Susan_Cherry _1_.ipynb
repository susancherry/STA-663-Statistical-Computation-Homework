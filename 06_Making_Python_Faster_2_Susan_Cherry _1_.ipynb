{
 "cells": [
  {
   "cell_type": "code",
   "execution_count": 1,
   "metadata": {
    "collapsed": true
   },
   "outputs": [],
   "source": [
    "%matplotlib inline"
   ]
  },
  {
   "cell_type": "code",
   "execution_count": 2,
   "metadata": {
    "collapsed": true
   },
   "outputs": [],
   "source": [
    "import os\n",
    "import numpy as np\n",
    "import pandas as pd\n",
    "import matplotlib.pyplot as plt"
   ]
  },
  {
   "cell_type": "markdown",
   "metadata": {},
   "source": [
    "#  Making Python Faster Part 2"
   ]
  },
  {
   "cell_type": "markdown",
   "metadata": {},
   "source": [
    "**1**. (25 points) Accelerating network bound procedures.\n",
    "\n",
    "- Print the names of the first 5 PNG images on the URL `http://people.duke.edu/~ccc14/misc/`. (10 points)\n",
    "- Write a function that uses a for loop to download all images and time how long it takes (5 points)\n",
    "- Write a function that uses `concurrent.futures` and a thread pool to download all images and time how long it takes (5 points)\n",
    "- Write a function that uses `multiprocessing` and a process pool to download all images and time how long it takes (5 points)"
   ]
  },
  {
   "cell_type": "code",
   "execution_count": 3,
   "metadata": {
    "collapsed": false
   },
   "outputs": [
    {
     "name": "stdout",
     "output_type": "stream",
     "text": [
      "http://people.duke.edu/~ccc14/misc/250px-002Ivysaur.png\n",
      "http://people.duke.edu/~ccc14/misc/250px-003Venusaur.png\n",
      "http://people.duke.edu/~ccc14/misc/250px-004Charmander.png\n",
      "http://people.duke.edu/~ccc14/misc/250px-005Charmeleon.png\n",
      "http://people.duke.edu/~ccc14/misc/250px-006Charizard.png\n"
     ]
    }
   ],
   "source": [
    "import requests\n",
    "from bs4 import BeautifulSoup\n",
    "\n",
    "\n",
    "def listFD(url, ext=''):\n",
    "    '''function to print the names of the png images '''\n",
    "    page = requests.get(url).text\n",
    "    soup = BeautifulSoup(page, 'html.parser')\n",
    "    return [url + node.get('href') for node in soup.find_all('a') \n",
    "            if node.get('href').endswith(ext)]\n",
    "\n",
    "#list the site and extension \n",
    "site = 'http://people.duke.edu/~ccc14/misc/'\n",
    "ext = 'png'\n",
    "\n",
    "#print the first first 5 names \n",
    "for i, file in enumerate(listFD(site, ext)):\n",
    "    if i == 5:\n",
    "        break\n",
    "    print(file)"
   ]
  },
  {
   "cell_type": "code",
   "execution_count": 4,
   "metadata": {
    "collapsed": true
   },
   "outputs": [],
   "source": [
    "#function download the images\n",
    "def download_one(url, path):\n",
    "    \"\"\"Function to download one of the png images\"\"\"\n",
    "    r = requests.get(url, stream=True)\n",
    "    img = r.raw.read()\n",
    "    with open(path, 'wb') as f:\n",
    "        f.write(img) "
   ]
  },
  {
   "cell_type": "code",
   "execution_count": 5,
   "metadata": {
    "collapsed": false
   },
   "outputs": [
    {
     "name": "stdout",
     "output_type": "stream",
     "text": [
      "CPU times: user 360 ms, sys: 44 ms, total: 404 ms\n",
      "Wall time: 9.9 s\n"
     ]
    }
   ],
   "source": [
    "%%time\n",
    "\n",
    "#time how long it takes to download them\n",
    "\n",
    "for url in listFD(site, ext):\n",
    "    filename = os.path.split(url)[-1]\n",
    "    download_one(url, filename)"
   ]
  },
  {
   "cell_type": "code",
   "execution_count": 6,
   "metadata": {
    "collapsed": false
   },
   "outputs": [
    {
     "name": "stdout",
     "output_type": "stream",
     "text": [
      "CPU times: user 304 ms, sys: 60 ms, total: 364 ms\n",
      "Wall time: 2.58 s\n"
     ]
    }
   ],
   "source": [
    "%%time\n",
    "\n",
    "#Write a function that uses concurrent.futures and a thread pool \n",
    "from concurrent.futures import ThreadPoolExecutor\n",
    "\n",
    "args = [(url, os.path.split(url)[-1]) \n",
    "        for url in listFD(site, ext)]\n",
    "with ThreadPoolExecutor(max_workers=4) as pool:\n",
    "    pool.map(lambda x: download_one(x[0], x[1]), args)"
   ]
  },
  {
   "cell_type": "code",
   "execution_count": 7,
   "metadata": {
    "collapsed": false
   },
   "outputs": [
    {
     "name": "stdout",
     "output_type": "stream",
     "text": [
      "CPU times: user 68 ms, sys: 12 ms, total: 80 ms\n",
      "Wall time: 6.09 s\n"
     ]
    }
   ],
   "source": [
    "%%time\n",
    "\n",
    "#Write a function that uses multiprocessing and a process pool to download all images \n",
    "from multiprocessing import Pool\n",
    "\n",
    "args = [(url, os.path.split(url)[-1]) \n",
    "        for url in listFD(site, ext)]\n",
    "with Pool(processes=4) as pool:\n",
    "    pool.starmap(download_one, args)"
   ]
  },
  {
   "cell_type": "markdown",
   "metadata": {},
   "source": [
    "**2**. (25 points) Accelerating CPU bound procedures\n",
    "\n",
    "- Use the insanely slow [Buffon's needle](https://en.wikipedia.org/wiki/Buffon's_needle) algorithm to estimate $\\pi$.  Suppose the needle is of length 1, and the lines are also 1 unit apart.  Write a function to simulate the dropping of a pin with a random position and random angle, and return 0 if it does not cross a line and 1 if it does. Since the problem is periodic, you can assume that the bottom of the pin falls within (0, 1) and check if it crosses the line `y=0` or `y=1`. (10 points)\n",
    "- Calculate pi from dropping `n=10^6` pins and time it (10 points)\n",
    "- Use `concurrent.futures` and a process pool to parallelize  your solution and time it."
   ]
  },
  {
   "cell_type": "code",
   "execution_count": 8,
   "metadata": {
    "collapsed": true
   },
   "outputs": [],
   "source": [
    "n = 100\n",
    "p = 10\n",
    "xs = np.random.random((n, p))"
   ]
  },
  {
   "cell_type": "code",
   "execution_count": 9,
   "metadata": {
    "collapsed": true
   },
   "outputs": [],
   "source": [
    "def dist(x, y):\n",
    "    '''Function to return distance between x and y'''\n",
    "    return np.sqrt(np.sum((x - y)**2))"
   ]
  },
  {
   "cell_type": "code",
   "execution_count": 10,
   "metadata": {
    "collapsed": true
   },
   "outputs": [],
   "source": [
    "def pdist(xs):\n",
    "    m = np.empty((len(xs), len(xs)))\n",
    "    for i, x in enumerate(xs):\n",
    "        for j, y in enumerate(xs):\n",
    "            m[i, j] = dist(x, y)\n",
    "    return m"
   ]
  },
  {
   "cell_type": "code",
   "execution_count": 11,
   "metadata": {
    "collapsed": false
   },
   "outputs": [
    {
     "name": "stdout",
     "output_type": "stream",
     "text": [
      "10 loops, best of 3: 71.9 ms per loop\n"
     ]
    }
   ],
   "source": [
    "%timeit pdist(xs)"
   ]
  },
  {
   "cell_type": "code",
   "execution_count": 12,
   "metadata": {
    "collapsed": false
   },
   "outputs": [],
   "source": [
    "import random\n",
    "import math\n",
    "#Use Buffon's Needle to estimate pi\n",
    "def buffons_needle(n):\n",
    "    \"\"\"Function to simulate the random dropping of a pin. The pin is length 1. The lines are 1 apart\n",
    "    Returns 1 if the pin crosses a line and 0 if it does not\n",
    "    \"\"\"\n",
    "    \n",
    "    #choose random position and angle\n",
    "    dist_from_closest_line=random.randrange(5)/10\n",
    "    theta=random.randrange(180)\n",
    "    \n",
    "    #determine if the pin crossed a line or not\n",
    "    if 0.5*math.sin(theta)<=dist_from_closest_line:\n",
    "        return 1\n",
    "    else:\n",
    "        return 0\n"
   ]
  },
  {
   "cell_type": "code",
   "execution_count": 13,
   "metadata": {
    "collapsed": false
   },
   "outputs": [
    {
     "name": "stdout",
     "output_type": "stream",
     "text": [
      "Buffon's Needle Estimate of Pi:  3.151492231571649\n",
      "CPU times: user 2.77 s, sys: 20 ms, total: 2.79 s\n",
      "Wall time: 2.81 s\n"
     ]
    }
   ],
   "source": [
    "%%time\n",
    "n=10**6\n",
    "\n",
    "#initialize sum to 0\n",
    "crossed_line=0\n",
    "\n",
    "#iterate through each n\n",
    "for i in range(n):\n",
    "    #if the pin crosses the line, add 1 to the sum\n",
    "    crossed_line=crossed_line+buffons_needle(i)\n",
    "    \n",
    "#then use the resulting sum to estimate pi    \n",
    "print(\"Buffon's Needle Estimate of Pi: \", 2*n/crossed_line)"
   ]
  },
  {
   "cell_type": "code",
   "execution_count": 14,
   "metadata": {
    "collapsed": false
   },
   "outputs": [
    {
     "name": "stdout",
     "output_type": "stream",
     "text": [
      "Concurrent.Futures Estimate of Pi: 3.1523366695563086\n",
      "CPU times: user 22.2 s, sys: 7.86 s, total: 30.1 s\n",
      "Wall time: 28.2 s\n"
     ]
    }
   ],
   "source": [
    "%%time\n",
    "n=10**5\n",
    "#Use concurrent.futures and time \n",
    "\n",
    "from concurrent.futures import ProcessPoolExecutor\n",
    "\n",
    "with ProcessPoolExecutor(max_workers=4) as pool:\n",
    "    pindrops = pool.map(buffons_needle, [int(1e4) for i in range(n)])\n",
    "    \n",
    "#sum the list to get the number of needles that crossed a line. Use to estimate Pi    \n",
    "print(\"Concurrent.Futures Estimate of Pi:\", 2*n/sum(pindrops))"
   ]
  },
  {
   "cell_type": "markdown",
   "metadata": {},
   "source": [
    "**3**. (25 points) Use C++ to\n",
    "\n",
    "- Generate 10 $x$-coordinates linearly spaced between 10 and 15\n",
    "- Generate 10 random $y$-values as $y = 3x^2 − 7x + 2 + \\epsilon$ where $\\epsilon∼10N(0,1)$\n",
    "- Find the norm of $x$ and $y$ considered as length 10-vectors\n",
    "- Find the Euclidean distance between $x$ and $y$\n",
    "- Solve the linear system to find a quadratic fit for this data\n",
    "\n",
    "You may wish to use `armadillo` or `eigen` to solve this exercise."
   ]
  },
  {
   "cell_type": "code",
   "execution_count": 15,
   "metadata": {
    "collapsed": false
   },
   "outputs": [
    {
     "name": "stdout",
     "output_type": "stream",
     "text": [
      "mkdir: cannot create directory ‘question3’: File exists\n",
      "/home/jovyan/work/sta-663-2017/homework/question3\n"
     ]
    }
   ],
   "source": [
    "%mkdir question3\n",
    "%cd question3"
   ]
  },
  {
   "cell_type": "code",
   "execution_count": 16,
   "metadata": {
    "collapsed": false
   },
   "outputs": [
    {
     "name": "stdout",
     "output_type": "stream",
     "text": [
      "Overwriting question3.cpp\n"
     ]
    }
   ],
   "source": [
    "%%file question3.cpp\n",
    "\n",
    "#include <iostream>\n",
    "#include <fstream>\n",
    "#include <armadillo>\n",
    "\n",
    "using std::cout;\n",
    "using std::ofstream;\n",
    "\n",
    "int main() \n",
    "{\n",
    "    using namespace arma;\n",
    "    // Create x, y, and e\n",
    "    vec X = linspace<vec>(10.0,15.0,10);\n",
    "    vec e = randn<vec>(10);\n",
    "    vec Y = 3*X%X - 7*X + 2 + 10*e; \n",
    "\n",
    "    // Find the norm of X, Y\n",
    "    cout << \"X Values: \\n \" << X << \"\\n\";\n",
    "    cout << \"Y Values: \\n \" << Y << \"\\n\";\n",
    "    cout << \"X Length: \\n \" << norm(X) << \"\\n \\n\";\n",
    "    cout << \"Y Length: \\n \" << norm(Y) << \"\\n \\n\";\n",
    "    \n",
    "    // Find the Distance between the 2\n",
    "    cout << \"Euclidean distance between X and Y: \\n\" << norm(X - Y) << \"\\n \\n\";\n",
    "    \n",
    "    // create the matrix to solve the quadratic fit\n",
    "    mat new_X = join_rows(ones<vec>(10), X);\n",
    "    new_X = join_rows(new_X,X%X);\n",
    "\n",
    "    // Solve for beta\n",
    "    vec beta = solve(new_X, Y);\n",
    "    cout << \"Beta Values for Quadratic Fit: \\n\" << beta << \"\\n\";\n",
    "}"
   ]
  },
  {
   "cell_type": "code",
   "execution_count": 17,
   "metadata": {
    "collapsed": false
   },
   "outputs": [
    {
     "name": "stdout",
     "output_type": "stream",
     "text": [
      "Overwriting Makefile\n"
     ]
    }
   ],
   "source": [
    "%%file Makefile\n",
    "# Declaration of variables\n",
    "CC = g++\n",
    "CC_FLAGS = -Wall -std=c++11\n",
    "LD_FLAGS = -larmadillo # Add library for linking\n",
    "\n",
    "# File names\n",
    "EXEC = question3\n",
    "SOURCES = $(wildcard *.cpp)\n",
    "OBJECTS = $(SOURCES:.cpp=.o)\n",
    " \n",
    "# Main target\n",
    "$(EXEC): $(OBJECTS)\n",
    "\t$(CC) $(LD_FLAGS) $(OBJECTS) -o $(EXEC)\n",
    " \n",
    "# To obtain object files\n",
    "%.o: %.cpp\n",
    "\t$(CC) -c $(CC_FLAGS) $< -o $@\n",
    " \n",
    "# To remove generated files\n",
    "clean:\n",
    "\trm -f $(EXEC) $(OBJECTS)"
   ]
  },
  {
   "cell_type": "code",
   "execution_count": 18,
   "metadata": {
    "collapsed": false
   },
   "outputs": [
    {
     "name": "stdout",
     "output_type": "stream",
     "text": [
      "rm -f question3 question3.o\n",
      "g++ -c -Wall -std=c++11 question3.cpp -o question3.o\n",
      "g++ -larmadillo  question3.o -o question3\n",
      "X Values: \n",
      "    10.0000\n",
      "   10.5556\n",
      "   11.1111\n",
      "   11.6667\n",
      "   12.2222\n",
      "   12.7778\n",
      "   13.3333\n",
      "   13.8889\n",
      "   14.4444\n",
      "   15.0000\n",
      "\n",
      "Y Values: \n",
      "    2.2513e+02\n",
      "   2.7027e+02\n",
      "   2.9660e+02\n",
      "   3.2962e+02\n",
      "   3.6404e+02\n",
      "   3.9959e+02\n",
      "   4.2064e+02\n",
      "   4.8632e+02\n",
      "   5.3136e+02\n",
      "   5.5517e+02\n",
      "\n",
      "X Length: \n",
      " 39.8493\n",
      " \n",
      "Y Length: \n",
      " 1271.44\n",
      " \n",
      "Euclidean distance between X and Y: \n",
      "1232\n",
      " \n",
      "Beta Values for Quadratic Fit: \n",
      "  -66.5216\n",
      "    5.6618\n",
      "    2.4158\n",
      "\n"
     ]
    }
   ],
   "source": [
    "%%bash\n",
    "\n",
    "make clean\n",
    "make\n",
    "./question3"
   ]
  },
  {
   "cell_type": "markdown",
   "metadata": {},
   "source": [
    "**4**. (25 points) **4**. Write a C++ function that uses the `eigen` library to solve the least squares linear problem\n",
    "\n",
    "$$\n",
    "\\beta = (X^TX)^{-1}X^Ty\n",
    "$$\n",
    "\n",
    "for a matrix $X$ and vector $y$ and returns the vector of coefficients $\\beta$. Wrap the function for use in Python and call it like so\n",
    "\n",
    "```\n",
    "beta <- least_squares(X, y)\n",
    "```\n",
    "\n",
    "where $X$ and $y$ are given below. \n",
    "\n",
    "Wrap the function so that it can be called from Python and compare with the `np.linalg.lstsq` solution shown."
   ]
  },
  {
   "cell_type": "code",
   "execution_count": 19,
   "metadata": {
    "collapsed": false
   },
   "outputs": [],
   "source": [
    "n = 10\n",
    "x = np.linspace(0, 10, n)\n",
    "y = 3*x**2 - 7*x + 2 + np.random.normal(0, 10, n)\n",
    "X = np.c_[np.ones(n), x, x**2]"
   ]
  },
  {
   "cell_type": "code",
   "execution_count": 20,
   "metadata": {
    "collapsed": true
   },
   "outputs": [],
   "source": [
    "beta = np.linalg.lstsq(X, y)[0]"
   ]
  },
  {
   "cell_type": "code",
   "execution_count": 21,
   "metadata": {
    "collapsed": false
   },
   "outputs": [
    {
     "data": {
      "text/plain": [
       "array([-4.33058184, -2.04475907,  2.35964587])"
      ]
     },
     "execution_count": 21,
     "metadata": {},
     "output_type": "execute_result"
    }
   ],
   "source": [
    "beta"
   ]
  },
  {
   "cell_type": "code",
   "execution_count": 22,
   "metadata": {
    "collapsed": false
   },
   "outputs": [
    {
     "data": {
      "image/png": "[encoded data removed]",
      "text/plain": [
       "<matplotlib.figure.Figure at 0x7f2aecca9898>"
      ]
     },
     "metadata": {},
     "output_type": "display_data"
    }
   ],
   "source": [
    "plt.scatter(x, y)\n",
    "plt.plot(x, X @ beta, 'red')\n",
    "pass"
   ]
  },
  {
   "cell_type": "code",
   "execution_count": 23,
   "metadata": {
    "collapsed": false
   },
   "outputs": [
    {
     "name": "stdout",
     "output_type": "stream",
     "text": [
      "Requirement already satisfied (use --upgrade to upgrade): pybind11 in /opt/conda/lib/python3.5/site-packages\n",
      "\u001b[33mYou are using pip version 8.1.2, however version 9.0.1 is available.\n",
      "You should consider upgrading via the 'pip install --upgrade pip' command.\u001b[0m\n",
      "Requirement already satisfied (use --upgrade to upgrade): cppimport in /opt/conda/lib/python3.5/site-packages\n",
      "Requirement already satisfied (use --upgrade to upgrade): pybind11 in /opt/conda/lib/python3.5/site-packages (from cppimport)\n",
      "Requirement already satisfied (use --upgrade to upgrade): mako in /opt/conda/lib/python3.5/site-packages (from cppimport)\n",
      "Requirement already satisfied (use --upgrade to upgrade): MarkupSafe>=0.9.2 in /opt/conda/lib/python3.5/site-packages (from mako->cppimport)\n",
      "\u001b[33mYou are using pip version 8.1.2, however version 9.0.1 is available.\n",
      "You should consider upgrading via the 'pip install --upgrade pip' command.\u001b[0m\n"
     ]
    }
   ],
   "source": [
    "! pip3 install pybind11\n",
    "! pip3 install cppimport"
   ]
  },
  {
   "cell_type": "code",
   "execution_count": 24,
   "metadata": {
    "collapsed": false
   },
   "outputs": [
    {
     "name": "stdout",
     "output_type": "stream",
     "text": [
      "Cloning into 'eigen'...\n",
      "remote: Counting objects: 88374, done.\u001b[K\n",
      "remote: Compressing objects: 100% (405/405), done.\u001b[K\n",
      "remote: Total 88374 (delta 257), reused 0 (delta 0), pack-reused 87969\u001b[K\n",
      "Receiving objects: 100% (88374/88374), 71.56 MiB | 28.93 MiB/s, done.\n",
      "Resolving deltas: 100% (65215/65215), done.\n",
      "Checking connectivity... done.\n"
     ]
    }
   ],
   "source": [
    "! git clone https://github.com/RLovelett/eigen.git"
   ]
  },
  {
   "cell_type": "code",
   "execution_count": 25,
   "metadata": {
    "collapsed": false
   },
   "outputs": [
    {
     "name": "stdout",
     "output_type": "stream",
     "text": [
      "mkdir: cannot create directory ‘question4’: File exists\n",
      "/home/jovyan/work/sta-663-2017/homework/question3/question4\n"
     ]
    }
   ],
   "source": [
    "%mkdir question4\n",
    "%cd question4"
   ]
  },
  {
   "cell_type": "code",
   "execution_count": 26,
   "metadata": {
    "collapsed": false
   },
   "outputs": [
    {
     "name": "stdout",
     "output_type": "stream",
     "text": [
      "Overwriting wrap6.cpp\n"
     ]
    }
   ],
   "source": [
    "%%file wrap6.cpp\n",
    "<%\n",
    "cfg['compiler_args'] = ['-std=c++11']\n",
    "cfg['include_dirs'] = ['../eigen']\n",
    "setup_pybind11(cfg)\n",
    "%>\n",
    "\n",
    "#include <pybind11/pybind11.h>\n",
    "#include <pybind11/eigen.h>\n",
    "#include <Eigen/Dense>\n",
    "\n",
    "using namespace Eigen;\n",
    "namespace py = pybind11;\n",
    "\n",
    "\n",
    "// Calculates the least squares using Eigen\n",
    "Eigen::MatrixXd least_squares(Eigen::MatrixXd xs,Eigen::MatrixXd b) {\n",
    "    return xs.jacobiSvd(ComputeThinU | ComputeThinV).solve(b);\n",
    "}\n",
    "\n",
    "PYBIND11_PLUGIN(wrap6) {\n",
    "    pybind11::module m(\"wrap6\", \"auto-compiled c++ extension\");\n",
    "    m.def(\"least_squares\", &least_squares);\n",
    "    return m.ptr();\n",
    "}"
   ]
  },
  {
   "cell_type": "code",
   "execution_count": 27,
   "metadata": {
    "collapsed": false
   },
   "outputs": [
    {
     "name": "stdout",
     "output_type": "stream",
     "text": [
      "[-4.33058184 -2.04475907  2.35964587]\n",
      "[[-4.33058184 -2.04475907  2.35964587]]\n"
     ]
    }
   ],
   "source": [
    "import cppimport\n",
    "import numpy as np\n",
    "\n",
    "code = cppimport.imp(\"wrap6\")\n",
    "\n",
    "#try the least_squares function\n",
    "beta2=code.least_squares(X,y)\n",
    "\n",
    "#print both this beta and the linalg beta to check for correctness. They're the same\n",
    "print(beta)\n",
    "print(beta2.T)"
   ]
  },
  {
   "cell_type": "code",
   "execution_count": 28,
   "metadata": {
    "collapsed": false
   },
   "outputs": [
    {
     "data": {
      "image/png": "[encoded data removed]",
      "text/plain": [
       "<matplotlib.figure.Figure at 0x7f2aecca9cc0>"
      ]
     },
     "metadata": {},
     "output_type": "display_data"
    }
   ],
   "source": [
    "#Scatter the new beta2\n",
    "plt.scatter(x, y)\n",
    "plt.plot(x, X @ beta2, 'red')\n",
    "pass"
   ]
  },
  {
   "cell_type": "code",
   "execution_count": null,
   "metadata": {
    "collapsed": true
   },
   "outputs": [],
   "source": []
  }
 ],
 "metadata": {
  "kernelspec": {
   "display_name": "Python 3",
   "language": "python",
   "name": "python3"
  },
  "language_info": {
   "codemirror_mode": {
    "name": "ipython",
    "version": 3
   },
   "file_extension": ".py",
   "mimetype": "text/x-python",
   "name": "python",
   "nbconvert_exporter": "python",
   "pygments_lexer": "ipython3",
   "version": "3.5.2"
  },
  "latex_envs": {
   "bibliofile": "biblio.bib",
   "cite_by": "apalike",
   "current_citInitial": 1,
   "eqLabelWithNumbers": true,
   "eqNumInitial": 0
  }
 },
 "nbformat": 4,
 "nbformat_minor": 2
}
